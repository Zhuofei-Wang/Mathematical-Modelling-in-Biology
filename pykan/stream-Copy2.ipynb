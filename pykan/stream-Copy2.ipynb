{
 "cells": [
  {
   "cell_type": "code",
   "execution_count": 2,
   "id": "1076c512-b522-4702-8d00-d675183c82c4",
   "metadata": {},
   "outputs": [
    {
     "ename": "SyntaxError",
     "evalue": "unmatched ')' (686267680.py, line 3)",
     "output_type": "error",
     "traceback": [
      "\u001b[0;36m  Cell \u001b[0;32mIn[2], line 3\u001b[0;36m\u001b[0m\n\u001b[0;31m    np_data[:200,[5,7,10,14,17,19,22,24]])\u001b[0m\n\u001b[0m                                         ^\u001b[0m\n\u001b[0;31mSyntaxError\u001b[0m\u001b[0;31m:\u001b[0m unmatched ')'\n"
     ]
    }
   ],
   "source": [
    "print(np_data[:200,:])\n",
    "print(np_data[:200,[0,1,3,5,6,7,10,11,12,13,14,17,18,19,22,23,24]].shape)\n",
    "np_data[:200,[5,7,10,14,17,19,22,24]])\n",
    "np_data[:200,[4,10,17]])"
   ]
  },
  {
   "cell_type": "code",
   "execution_count": 26,
   "id": "be647285-2642-4c9c-8c45-0f43021d8986",
   "metadata": {
    "scrolled": true
   },
   "outputs": [
    {
     "name": "stdout",
     "output_type": "stream",
     "text": [
      "Using device: cuda\n",
      "checkpoint directory created: ./model\n",
      "saving model version 0.0\n",
      "tensor([[8.9000e+01, 1.3000e+01, 2.2500e+00, 1.6000e+00, 3.1600e+00, 0.0000e+00,\n",
      "         5.9900e+00, 2.0000e+00, 1.0000e+00, 1.3750e+03, 7.1000e+01, 7.6100e+02,\n",
      "         1.1800e+02, 0.0000e+00, 4.2500e+02],\n",
      "        [6.2000e+01, 1.0000e+01, 1.9700e+00, 4.0000e-02, 5.7000e-01, 0.0000e+00,\n",
      "         7.4200e+00, 0.0000e+00, 1.0000e+00, 7.9900e+02, 2.1800e+02, 1.0000e+00,\n",
      "         6.2000e+01, 0.0000e+00, 5.1800e+02],\n",
      "        [6.2000e+01, 1.0000e+01, 2.7300e+00, 1.1800e+00, 1.8000e+00, 0.0000e+00,\n",
      "         4.2800e+00, 1.0000e+00, 0.0000e+00, 7.6600e+02, 5.6000e+01, 1.8800e+02,\n",
      "         7.8000e+01, 0.0000e+00, 4.4400e+02],\n",
      "        [6.6000e+01, 1.2000e+01, 3.6900e+00, 2.2700e+00, 4.4700e+00, 0.0000e+00,\n",
      "         1.5700e+00, 1.0000e+00, 1.0000e+00, 1.3970e+03, 4.7100e+02, 3.2000e+02,\n",
      "         3.8800e+02, 0.0000e+00, 2.1800e+02],\n",
      "        [9.2000e+01, 2.2000e+01, 7.7600e+00, 0.0000e+00, 2.9600e+00, 0.0000e+00,\n",
      "         1.1280e+01, 2.0000e+00, 0.0000e+00, 1.5300e+03, 6.2800e+02, 0.0000e+00,\n",
      "         1.3400e+02, 0.0000e+00, 7.6800e+02],\n",
      "        [1.6360e+03, 2.5600e+02, 5.5980e+01, 2.7810e+01, 6.3640e+01, 0.0000e+00,\n",
      "         1.0857e+02, 3.2000e+01, 1.1000e+01, 2.9768e+04, 9.3390e+03, 4.5570e+03,\n",
      "         4.6760e+03, 0.0000e+00, 1.1196e+04],\n",
      "        [7.5000e+01, 1.2000e+01, 5.6200e+00, 9.7000e-01, 4.4100e+00, 0.0000e+00,\n",
      "         1.0000e+00, 0.0000e+00, 0.0000e+00, 8.4300e+02, 5.3500e+02, 1.7000e+02,\n",
      "         1.1100e+02, 0.0000e+00, 2.7000e+01],\n",
      "        [5.9000e+01, 7.0000e+00, 3.3200e+00, 0.0000e+00, 4.2000e-01, 0.0000e+00,\n",
      "         3.2600e+00, 2.0000e+00, 0.0000e+00, 3.2400e+02, 1.1700e+02, 0.0000e+00,\n",
      "         2.5000e+01, 0.0000e+00, 1.8200e+02],\n",
      "        [6.2000e+01, 1.3000e+01, 6.5300e+00, 9.4000e-01, 3.5400e+00, 0.0000e+00,\n",
      "         1.9900e+00, 0.0000e+00, 0.0000e+00, 7.0700e+02, 4.7000e+02, 7.7000e+01,\n",
      "         8.7000e+01, 0.0000e+00, 7.3000e+01],\n",
      "        [3.0000e+01, 4.0000e+00, 0.0000e+00, 8.2000e-01, 0.0000e+00, 0.0000e+00,\n",
      "         3.1800e+00, 1.0000e+00, 0.0000e+00, 1.4210e+03, 0.0000e+00, 5.3200e+02,\n",
      "         0.0000e+00, 0.0000e+00, 8.8900e+02]], device='cuda:0')\n",
      "torch.Size([30000, 15])\n",
      "tensor(True, device='cuda:0')\n",
      "tensor(False, device='cuda:0')\n",
      "torch.Size([23979, 14]) torch.Size([5994, 14]) torch.Size([23979, 1]) torch.Size([5994, 1])\n"
     ]
    },
    {
     "name": "stderr",
     "output_type": "stream",
     "text": [
      "| train_loss: 4.61e-03 | test_loss: 4.15e-02 | reg: 6.88e+01 | : 100%|█| 20/20 [00:11<00:00,  1.79it"
     ]
    },
    {
     "name": "stdout",
     "output_type": "stream",
     "text": [
      "saving model version 0.1\n"
     ]
    },
    {
     "name": "stderr",
     "output_type": "stream",
     "text": [
      "\n"
     ]
    },
    {
     "data": {
      "text/plain": [
       "{'train_loss': [array(0.1558811, dtype=float32),\n",
       "  array(0.03955888, dtype=float32),\n",
       "  array(0.02415301, dtype=float32),\n",
       "  array(0.01731918, dtype=float32),\n",
       "  array(0.01321877, dtype=float32),\n",
       "  array(0.01074121, dtype=float32),\n",
       "  array(0.00922901, dtype=float32),\n",
       "  array(0.00798916, dtype=float32),\n",
       "  array(0.00729885, dtype=float32),\n",
       "  array(0.00674953, dtype=float32),\n",
       "  array(0.00648418, dtype=float32),\n",
       "  array(0.00597091, dtype=float32),\n",
       "  array(0.00562548, dtype=float32),\n",
       "  array(0.00533295, dtype=float32),\n",
       "  array(0.00515701, dtype=float32),\n",
       "  array(0.00527628, dtype=float32),\n",
       "  array(0.00508896, dtype=float32),\n",
       "  array(0.00492604, dtype=float32),\n",
       "  array(0.00479141, dtype=float32),\n",
       "  array(0.00461183, dtype=float32)],\n",
       " 'test_loss': [array(0.18419461, dtype=float32),\n",
       "  array(0.04649241, dtype=float32),\n",
       "  array(0.02813099, dtype=float32),\n",
       "  array(0.02234216, dtype=float32),\n",
       "  array(0.01681884, dtype=float32),\n",
       "  array(0.04127231, dtype=float32),\n",
       "  array(0.04049316, dtype=float32),\n",
       "  array(0.03662653, dtype=float32),\n",
       "  array(0.03226129, dtype=float32),\n",
       "  array(0.02773279, dtype=float32),\n",
       "  array(0.01523226, dtype=float32),\n",
       "  array(0.01451312, dtype=float32),\n",
       "  array(0.01355402, dtype=float32),\n",
       "  array(0.01299274, dtype=float32),\n",
       "  array(0.01267497, dtype=float32),\n",
       "  array(0.04381603, dtype=float32),\n",
       "  array(0.0435531, dtype=float32),\n",
       "  array(0.04295747, dtype=float32),\n",
       "  array(0.04203406, dtype=float32),\n",
       "  array(0.04147991, dtype=float32)],\n",
       " 'reg': [array(0., dtype=float32),\n",
       "  array(0., dtype=float32),\n",
       "  array(0., dtype=float32),\n",
       "  array(0., dtype=float32),\n",
       "  array(0., dtype=float32),\n",
       "  array(0., dtype=float32),\n",
       "  array(0., dtype=float32),\n",
       "  array(0., dtype=float32),\n",
       "  array(0., dtype=float32),\n",
       "  array(0., dtype=float32),\n",
       "  array(0., dtype=float32),\n",
       "  array(0., dtype=float32),\n",
       "  array(0., dtype=float32),\n",
       "  array(0., dtype=float32),\n",
       "  array(0., dtype=float32),\n",
       "  array(0., dtype=float32),\n",
       "  array(0., dtype=float32),\n",
       "  array(0., dtype=float32),\n",
       "  array(0., dtype=float32),\n",
       "  array(68.832634, dtype=float32)]}"
      ]
     },
     "execution_count": 26,
     "metadata": {},
     "output_type": "execute_result"
    }
   ],
   "source": [
    "import sys\n",
    "sys.path.append(\"/root/autodl-tmp/pykan-master\")\n",
    "from kan import *\n",
    "import torch\n",
    "from kan import KAN, create_dataset\n",
    "import pandas as pd\n",
    "import numpy as np\n",
    "\n",
    "def split_validation_column(train_input, column_idx, val_ratio=0.2):\n",
    "    \"\"\"\n",
    "    从训练数据中分离出指定列作为验证集\n",
    "    \n",
    "    参数:\n",
    "    train_input (torch.Tensor): 输入的训练数据张量\n",
    "    column_idx (int): 要选择作为验证集的列索引\n",
    "    val_ratio (float): 验证集占原始数据的比例，默认为0.2\n",
    "    \n",
    "    返回:\n",
    "    train_data (torch.Tensor): 剩余的训练数据\n",
    "    val_data (torch.Tensor): 选出的验证数据\n",
    "    \"\"\"\n",
    "    \n",
    "    # 获取数据总长度\n",
    "    total_size = train_input.shape[0]\n",
    "    \n",
    "    # 计算验证集大小\n",
    "    val_size = int(total_size * val_ratio)\n",
    "    train_size = total_size - val_size\n",
    "    \n",
    "    # 随机打乱索引\n",
    "    indices = torch.randperm(total_size)\n",
    "    \n",
    "    # 分割索引\n",
    "    train_indices = indices[val_size:]\n",
    "    val_indices = indices[:val_size]\n",
    "    \n",
    "    # 分离出指定列\n",
    "    train_out = train_input[train_indices, column_idx].unsqueeze(1)  # 添加维度保持2D形状\n",
    "    val_out = train_input[val_indices, column_idx].unsqueeze(1)  # 添加维度保持2D形状\n",
    "    # 创建新的训练数据，去掉验证集的那一列\n",
    "    train_data = torch.cat((train_input[:, :column_idx], \n",
    "                           train_input[:, column_idx+1:]), dim=1)\n",
    "    train_in = train_data[train_indices]\n",
    "    val_in = train_data[val_indices]\n",
    "    \n",
    "    return train_in, val_in, train_out, val_out\n",
    "\n",
    "\n",
    "\n",
    "# Device setup: Use GPU if available, otherwise fall back to CPU\n",
    "device = torch.device('cuda' if torch.cuda.is_available() else 'cpu')\n",
    "print(f\"Using device: {device}\")\n",
    "\n",
    "# Create the KAN model and move it to the GPU\n",
    "model = KAN(width=[14, 20, 10, 1], grid=10, k=3, seed=1).to(device)\n",
    "\n",
    "# Define a sample function and create a dataset (for demonstration)\n",
    "f = lambda x: torch.exp((torch.sin(torch.pi * (x[:, [0]]**2 + x[:, [1]]**2)) + torch.sin(torch.pi * (x[:, [2]]**2 + x[:, [3]]**2))) / 2)\n",
    "dataset = create_dataset(f, n_var=4, train_num=3000, device=device)\n",
    "\n",
    "# Load and process the CSV data\n",
    "df = pd.read_csv('Airline_Delay_Cause.csv')\n",
    "\n",
    "# # Process timestamp: Convert to Unix timestamp (seconds since 1970)\n",
    "# df['timestamp'] = pd.to_datetime(df['timestamp'], format='%Y-%m-%d %H:%M:%S')\n",
    "# df['timestamp'] = df['timestamp'].apply(lambda x: x.timestamp()).astype('float64')\n",
    "\n",
    "# # Process risk_classification: Map categories to numerical values\n",
    "# risk_map = {'Low Risk': 0.0, 'Moderate Risk': 0.5, 'High Risk': 1.0}\n",
    "# df['risk_classification'] = df['risk_classification'].map(risk_map).astype('float64')\n",
    "\n",
    "# Convert DataFrame to NumPy array with float32 type\n",
    "\n",
    "df = df.iloc[:, 6:]\n",
    "# print(df)\n",
    "structured_array = df.to_numpy().astype(np.float32)\n",
    "\n",
    "# Standardization function: Normalize along dimension 0\n",
    "def normalize_along_dim0(tensor):\n",
    "    mean = tensor.mean(dim=0)\n",
    "    std = tensor.std(dim=0, unbiased=True)\n",
    "    normalized_tensor = (tensor - mean) / (std + 1e-8)  # Add small constant to avoid division by zero\n",
    "    return normalized_tensor\n",
    "\n",
    "# Split data into train and test sets and move to GPU\n",
    "\n",
    "# structured_array = np.nan_to_num(structured_array, nan=0.0, posinf=0.0, neginf=0.0)\n",
    "train_input = torch.from_numpy(structured_array[:30000, :]).float().to(device)\n",
    "print(train_input[:10])\n",
    "print(train_input.shape)  # 确认张量形状\n",
    "print(torch.isnan(train_input).any())  # 检查是否有 NaN\n",
    "print(torch.isinf(train_input).any())  # 检查是否有 Inf\n",
    "mask = ~torch.isnan(train_input).any(dim=1)\n",
    "train_input = train_input[mask]\n",
    "train_input = normalize_along_dim0(train_input)\n",
    "# print(train_input[:10])\n",
    "train_input, test_input, train_label, test_label = split_validation_column(train_input, 9)\n",
    "\n",
    "# print(train_input[:10])\n",
    "# print(train_label[:10])\n",
    "\n",
    "# col_to_remove = 2\n",
    "# train_input = torch.cat((train_input[:, :col_to_remove], train_input[:, col_to_remove + 1:]), dim=1)\n",
    "# test_input = torch.cat((test_input[:, :col_to_remove], test_input[:, col_to_remove + 1:]), dim=1)\n",
    "# train_label = torch.from_numpy(structured_array[:10000, 2+1:2+2]).float().to(device)\n",
    "# test_label = torch.from_numpy(structured_array[29000:, 2+1:2+2]).float().to(device)\n",
    "\n",
    "# Normalize the data\n",
    "# train_input = normalize_along_dim0(train_input)\n",
    "# test_input = normalize_along_dim0(test_input)\n",
    "# train_label = normalize_along_dim0(train_label)\n",
    "# test_label = normalize_along_dim0(test_label)\n",
    "\n",
    "# Update dataset with processed data\n",
    "dataset['train_input'] = train_input\n",
    "dataset['test_input'] = test_input\n",
    "dataset['train_label'] = train_label\n",
    "dataset['test_label'] = test_label\n",
    "\n",
    "# Print shapes to verify\n",
    "print(dataset['train_input'].shape, dataset['test_input'].shape, dataset['train_label'].shape, dataset['test_label'].shape)\n",
    "\n",
    "# Train the model on GPU\n",
    "model.fit(dataset, opt=\"LBFGS\", steps=20)"
   ]
  },
  {
   "cell_type": "code",
   "execution_count": 28,
   "id": "77a6ca4b-418f-4275-bc71-924b7d06e337",
   "metadata": {},
   "outputs": [
    {
     "name": "stdout",
     "output_type": "stream",
     "text": [
      "saving model version 0.5\n",
      "saving model version 0.6\n"
     ]
    },
    {
     "name": "stderr",
     "output_type": "stream",
     "text": [
      "| train_loss: 1.44e-02 | test_loss: 4.70e-02 | reg: 7.29e+01 | : 100%|█| 20/20 [00:12<00:00,  1.62it"
     ]
    },
    {
     "name": "stdout",
     "output_type": "stream",
     "text": [
      "saving model version 0.7\n"
     ]
    },
    {
     "name": "stderr",
     "output_type": "stream",
     "text": [
      "\n"
     ]
    }
   ],
   "source": [
    "model = model.prune(edge_th=1e-3)\n",
    "model = model.refine(20)\n",
    "# model.fit(dataset, opt=\"LBFGS\", steps=50, lamb=0.002, lamb_entropy=2.);\n",
    "model.fit(dataset, opt=\"LBFGS\", steps=20);"
   ]
  },
  {
   "cell_type": "code",
   "execution_count": 23,
   "id": "46e91426-3faa-4dec-8463-236d4e4a7845",
   "metadata": {},
   "outputs": [
    {
     "name": "stdout",
     "output_type": "stream",
     "text": [
      "saving model version 0.8\n",
      "saving model version 0.9\n"
     ]
    },
    {
     "name": "stderr",
     "output_type": "stream",
     "text": [
      "| train_loss: nan | test_loss: nan | reg: 0.00e+00 | :   3%|▏       | 3/100 [00:03<02:08,  1.32s/it]\n"
     ]
    },
    {
     "ename": "KeyboardInterrupt",
     "evalue": "",
     "output_type": "error",
     "traceback": [
      "\u001b[0;31m---------------------------------------------------------------------------\u001b[0m",
      "\u001b[0;31mKeyboardInterrupt\u001b[0m                         Traceback (most recent call last)",
      "Cell \u001b[0;32mIn[23], line 4\u001b[0m\n\u001b[1;32m      2\u001b[0m model \u001b[38;5;241m=\u001b[39m model\u001b[38;5;241m.\u001b[39mrefine(\u001b[38;5;241m30\u001b[39m)\n\u001b[1;32m      3\u001b[0m \u001b[38;5;66;03m# model.fit(dataset, opt=\"LBFGS\", steps=50, lamb=0.002, lamb_entropy=2.);\u001b[39;00m\n\u001b[0;32m----> 4\u001b[0m \u001b[43mmodel\u001b[49m\u001b[38;5;241;43m.\u001b[39;49m\u001b[43mfit\u001b[49m\u001b[43m(\u001b[49m\u001b[43mdataset\u001b[49m\u001b[43m,\u001b[49m\u001b[43m \u001b[49m\u001b[43mopt\u001b[49m\u001b[38;5;241;43m=\u001b[39;49m\u001b[38;5;124;43m\"\u001b[39;49m\u001b[38;5;124;43mLBFGS\u001b[39;49m\u001b[38;5;124;43m\"\u001b[39;49m\u001b[43m,\u001b[49m\u001b[43m \u001b[49m\u001b[43msteps\u001b[49m\u001b[38;5;241;43m=\u001b[39;49m\u001b[38;5;241;43m100\u001b[39;49m\u001b[43m)\u001b[49m;\n",
      "File \u001b[0;32m~/autodl-tmp/pykan-master/kan/MultKAN.py:1533\u001b[0m, in \u001b[0;36mMultKAN.fit\u001b[0;34m(self, dataset, opt, steps, log, lamb, lamb_l1, lamb_entropy, lamb_coef, lamb_coefdiff, update_grid, grid_update_num, loss_fn, lr, start_grid_update_step, stop_grid_update_step, batch, metrics, save_fig, in_vars, out_vars, beta, save_fig_freq, img_folder, singularity_avoiding, y_th, reg_metric, display_metrics)\u001b[0m\n\u001b[1;32m   1530\u001b[0m     \u001b[38;5;28mself\u001b[39m\u001b[38;5;241m.\u001b[39mupdate_grid(dataset[\u001b[38;5;124m'\u001b[39m\u001b[38;5;124mtrain_input\u001b[39m\u001b[38;5;124m'\u001b[39m][train_id])\n\u001b[1;32m   1532\u001b[0m \u001b[38;5;28;01mif\u001b[39;00m opt \u001b[38;5;241m==\u001b[39m \u001b[38;5;124m\"\u001b[39m\u001b[38;5;124mLBFGS\u001b[39m\u001b[38;5;124m\"\u001b[39m:\n\u001b[0;32m-> 1533\u001b[0m     \u001b[43moptimizer\u001b[49m\u001b[38;5;241;43m.\u001b[39;49m\u001b[43mstep\u001b[49m\u001b[43m(\u001b[49m\u001b[43mclosure\u001b[49m\u001b[43m)\u001b[49m\n\u001b[1;32m   1535\u001b[0m \u001b[38;5;28;01mif\u001b[39;00m opt \u001b[38;5;241m==\u001b[39m \u001b[38;5;124m\"\u001b[39m\u001b[38;5;124mAdam\u001b[39m\u001b[38;5;124m\"\u001b[39m:\n\u001b[1;32m   1536\u001b[0m     pred \u001b[38;5;241m=\u001b[39m \u001b[38;5;28mself\u001b[39m\u001b[38;5;241m.\u001b[39mforward(dataset[\u001b[38;5;124m'\u001b[39m\u001b[38;5;124mtrain_input\u001b[39m\u001b[38;5;124m'\u001b[39m][train_id], singularity_avoiding\u001b[38;5;241m=\u001b[39msingularity_avoiding, y_th\u001b[38;5;241m=\u001b[39my_th)\n",
      "File \u001b[0;32m~/miniconda3/lib/python3.12/site-packages/torch/optim/optimizer.py:391\u001b[0m, in \u001b[0;36mOptimizer.profile_hook_step.<locals>.wrapper\u001b[0;34m(*args, **kwargs)\u001b[0m\n\u001b[1;32m    386\u001b[0m         \u001b[38;5;28;01melse\u001b[39;00m:\n\u001b[1;32m    387\u001b[0m             \u001b[38;5;28;01mraise\u001b[39;00m \u001b[38;5;167;01mRuntimeError\u001b[39;00m(\n\u001b[1;32m    388\u001b[0m                 \u001b[38;5;124mf\u001b[39m\u001b[38;5;124m\"\u001b[39m\u001b[38;5;132;01m{\u001b[39;00mfunc\u001b[38;5;132;01m}\u001b[39;00m\u001b[38;5;124m must return None or a tuple of (new_args, new_kwargs), but got \u001b[39m\u001b[38;5;132;01m{\u001b[39;00mresult\u001b[38;5;132;01m}\u001b[39;00m\u001b[38;5;124m.\u001b[39m\u001b[38;5;124m\"\u001b[39m\n\u001b[1;32m    389\u001b[0m             )\n\u001b[0;32m--> 391\u001b[0m out \u001b[38;5;241m=\u001b[39m \u001b[43mfunc\u001b[49m\u001b[43m(\u001b[49m\u001b[38;5;241;43m*\u001b[39;49m\u001b[43margs\u001b[49m\u001b[43m,\u001b[49m\u001b[43m \u001b[49m\u001b[38;5;241;43m*\u001b[39;49m\u001b[38;5;241;43m*\u001b[39;49m\u001b[43mkwargs\u001b[49m\u001b[43m)\u001b[49m\n\u001b[1;32m    392\u001b[0m \u001b[38;5;28mself\u001b[39m\u001b[38;5;241m.\u001b[39m_optimizer_step_code()\n\u001b[1;32m    394\u001b[0m \u001b[38;5;66;03m# call optimizer step post hooks\u001b[39;00m\n",
      "File \u001b[0;32m~/miniconda3/lib/python3.12/site-packages/torch/utils/_contextlib.py:115\u001b[0m, in \u001b[0;36mcontext_decorator.<locals>.decorate_context\u001b[0;34m(*args, **kwargs)\u001b[0m\n\u001b[1;32m    112\u001b[0m \u001b[38;5;129m@functools\u001b[39m\u001b[38;5;241m.\u001b[39mwraps(func)\n\u001b[1;32m    113\u001b[0m \u001b[38;5;28;01mdef\u001b[39;00m \u001b[38;5;21mdecorate_context\u001b[39m(\u001b[38;5;241m*\u001b[39margs, \u001b[38;5;241m*\u001b[39m\u001b[38;5;241m*\u001b[39mkwargs):\n\u001b[1;32m    114\u001b[0m     \u001b[38;5;28;01mwith\u001b[39;00m ctx_factory():\n\u001b[0;32m--> 115\u001b[0m         \u001b[38;5;28;01mreturn\u001b[39;00m \u001b[43mfunc\u001b[49m\u001b[43m(\u001b[49m\u001b[38;5;241;43m*\u001b[39;49m\u001b[43margs\u001b[49m\u001b[43m,\u001b[49m\u001b[43m \u001b[49m\u001b[38;5;241;43m*\u001b[39;49m\u001b[38;5;241;43m*\u001b[39;49m\u001b[43mkwargs\u001b[49m\u001b[43m)\u001b[49m\n",
      "File \u001b[0;32m~/autodl-tmp/pykan-master/kan/LBFGS.py:443\u001b[0m, in \u001b[0;36mLBFGS.step\u001b[0;34m(self, closure)\u001b[0m\n\u001b[1;32m    441\u001b[0m     \u001b[38;5;28;01mdef\u001b[39;00m \u001b[38;5;21mobj_func\u001b[39m(x, t, d):\n\u001b[1;32m    442\u001b[0m         \u001b[38;5;28;01mreturn\u001b[39;00m \u001b[38;5;28mself\u001b[39m\u001b[38;5;241m.\u001b[39m_directional_evaluate(closure, x, t, d)\n\u001b[0;32m--> 443\u001b[0m     loss, flat_grad, t, ls_func_evals \u001b[38;5;241m=\u001b[39m \u001b[43m_strong_wolfe\u001b[49m\u001b[43m(\u001b[49m\n\u001b[1;32m    444\u001b[0m \u001b[43m        \u001b[49m\u001b[43mobj_func\u001b[49m\u001b[43m,\u001b[49m\u001b[43m \u001b[49m\u001b[43mx_init\u001b[49m\u001b[43m,\u001b[49m\u001b[43m \u001b[49m\u001b[43mt\u001b[49m\u001b[43m,\u001b[49m\u001b[43m \u001b[49m\u001b[43md\u001b[49m\u001b[43m,\u001b[49m\u001b[43m \u001b[49m\u001b[43mloss\u001b[49m\u001b[43m,\u001b[49m\u001b[43m \u001b[49m\u001b[43mflat_grad\u001b[49m\u001b[43m,\u001b[49m\u001b[43m \u001b[49m\u001b[43mgtd\u001b[49m\u001b[43m)\u001b[49m\n\u001b[1;32m    445\u001b[0m \u001b[38;5;28mself\u001b[39m\u001b[38;5;241m.\u001b[39m_add_grad(t, d)\n\u001b[1;32m    446\u001b[0m opt_cond \u001b[38;5;241m=\u001b[39m flat_grad\u001b[38;5;241m.\u001b[39mabs()\u001b[38;5;241m.\u001b[39mmax() \u001b[38;5;241m<\u001b[39m\u001b[38;5;241m=\u001b[39m tolerance_grad\n",
      "File \u001b[0;32m~/autodl-tmp/pykan-master/kan/LBFGS.py:100\u001b[0m, in \u001b[0;36m_strong_wolfe\u001b[0;34m(obj_func, x, t, d, f, g, gtd, c1, c2, tolerance_change, max_ls)\u001b[0m\n\u001b[1;32m     98\u001b[0m g_prev \u001b[38;5;241m=\u001b[39m g_new\u001b[38;5;241m.\u001b[39mclone(memory_format\u001b[38;5;241m=\u001b[39mtorch\u001b[38;5;241m.\u001b[39mcontiguous_format)\n\u001b[1;32m     99\u001b[0m gtd_prev \u001b[38;5;241m=\u001b[39m gtd_new\n\u001b[0;32m--> 100\u001b[0m f_new, g_new \u001b[38;5;241m=\u001b[39m \u001b[43mobj_func\u001b[49m\u001b[43m(\u001b[49m\u001b[43mx\u001b[49m\u001b[43m,\u001b[49m\u001b[43m \u001b[49m\u001b[43mt\u001b[49m\u001b[43m,\u001b[49m\u001b[43m \u001b[49m\u001b[43md\u001b[49m\u001b[43m)\u001b[49m\n\u001b[1;32m    101\u001b[0m ls_func_evals \u001b[38;5;241m+\u001b[39m\u001b[38;5;241m=\u001b[39m \u001b[38;5;241m1\u001b[39m\n\u001b[1;32m    102\u001b[0m gtd_new \u001b[38;5;241m=\u001b[39m g_new\u001b[38;5;241m.\u001b[39mdot(d)\n",
      "File \u001b[0;32m~/autodl-tmp/pykan-master/kan/LBFGS.py:442\u001b[0m, in \u001b[0;36mLBFGS.step.<locals>.obj_func\u001b[0;34m(x, t, d)\u001b[0m\n\u001b[1;32m    441\u001b[0m \u001b[38;5;28;01mdef\u001b[39;00m \u001b[38;5;21mobj_func\u001b[39m(x, t, d):\n\u001b[0;32m--> 442\u001b[0m     \u001b[38;5;28;01mreturn\u001b[39;00m \u001b[38;5;28;43mself\u001b[39;49m\u001b[38;5;241;43m.\u001b[39;49m\u001b[43m_directional_evaluate\u001b[49m\u001b[43m(\u001b[49m\u001b[43mclosure\u001b[49m\u001b[43m,\u001b[49m\u001b[43m \u001b[49m\u001b[43mx\u001b[49m\u001b[43m,\u001b[49m\u001b[43m \u001b[49m\u001b[43mt\u001b[49m\u001b[43m,\u001b[49m\u001b[43m \u001b[49m\u001b[43md\u001b[49m\u001b[43m)\u001b[49m\n",
      "File \u001b[0;32m~/autodl-tmp/pykan-master/kan/LBFGS.py:291\u001b[0m, in \u001b[0;36mLBFGS._directional_evaluate\u001b[0;34m(self, closure, x, t, d)\u001b[0m\n\u001b[1;32m    289\u001b[0m \u001b[38;5;28;01mdef\u001b[39;00m \u001b[38;5;21m_directional_evaluate\u001b[39m(\u001b[38;5;28mself\u001b[39m, closure, x, t, d):\n\u001b[1;32m    290\u001b[0m     \u001b[38;5;28mself\u001b[39m\u001b[38;5;241m.\u001b[39m_add_grad(t, d)\n\u001b[0;32m--> 291\u001b[0m     loss \u001b[38;5;241m=\u001b[39m \u001b[38;5;28;43mfloat\u001b[39;49m\u001b[43m(\u001b[49m\u001b[43mclosure\u001b[49m\u001b[43m(\u001b[49m\u001b[43m)\u001b[49m\u001b[43m)\u001b[49m\n\u001b[1;32m    292\u001b[0m     flat_grad \u001b[38;5;241m=\u001b[39m \u001b[38;5;28mself\u001b[39m\u001b[38;5;241m.\u001b[39m_gather_flat_grad()\n\u001b[1;32m    293\u001b[0m     \u001b[38;5;28mself\u001b[39m\u001b[38;5;241m.\u001b[39m_set_param(x)\n",
      "\u001b[0;31mKeyboardInterrupt\u001b[0m: "
     ]
    }
   ],
   "source": [
    "\n",
    "model = model.prune(edge_th=1e-2)\n",
    "model = model.refine(30)\n",
    "# model.fit(dataset, opt=\"LBFGS\", steps=50, lamb=0.002, lamb_entropy=2.);\n",
    "model.fit(dataset, opt=\"LBFGS\", steps=100);"
   ]
  },
  {
   "cell_type": "code",
   "execution_count": 8,
   "id": "f0359031-e884-4b10-b88e-f210b00233e7",
   "metadata": {
    "scrolled": true
   },
   "outputs": [
    {
     "name": "stdout",
     "output_type": "stream",
     "text": [
      "saving model version 0.8\n",
      "saving model version 0.9\n"
     ]
    },
    {
     "name": "stderr",
     "output_type": "stream",
     "text": [
      "| train_loss: nan | test_loss: nan | reg: nan | : 100%|███████████| 100/100 [03:03<00:00,  1.83s/it]"
     ]
    },
    {
     "name": "stdout",
     "output_type": "stream",
     "text": [
      "saving model version 0.10\n"
     ]
    },
    {
     "name": "stderr",
     "output_type": "stream",
     "text": [
      "\n"
     ]
    }
   ],
   "source": [
    "model = model.prune(edge_th=5e-2)\n",
    "model = model.refine(50)\n",
    "# model.fit(dataset, opt=\"LBFGS\", steps=50, lamb=0.002, lamb_entropy=2.);\n",
    "model.fit(dataset, opt=\"LBFGS\", steps=100);"
   ]
  },
  {
   "cell_type": "code",
   "execution_count": 30,
   "id": "28b1e07c-f3c5-4439-a262-ade9c4ffbbc6",
   "metadata": {
    "scrolled": true
   },
   "outputs": [
    {
     "name": "stdout",
     "output_type": "stream",
     "text": [
      "fixing (0,0,0) with x, r2=0.992268979549408, c=1\n",
      "fixing (0,0,1) with x, r2=0.9778707027435303, c=1\n",
      "fixing (0,0,2) with x, r2=0.9828502535820007, c=1\n",
      "fixing (0,0,3) with x, r2=0.9891645312309265, c=1\n",
      "fixing (0,0,4) with x, r2=0.795764148235321, c=1\n",
      "fixing (0,0,5) with x, r2=0.9811017513275146, c=1\n",
      "fixing (0,0,6) with x, r2=0.917519748210907, c=1\n",
      "fixing (0,0,7) with x, r2=0.9669530987739563, c=1\n",
      "fixing (0,0,8) with x, r2=0.9764853119850159, c=1\n",
      "fixing (0,0,9) with x, r2=0.996070384979248, c=1\n",
      "fixing (0,0,10) with x, r2=0.8891808986663818, c=1\n",
      "fixing (0,0,11) with x, r2=0.9229486584663391, c=1\n",
      "fixing (0,0,12) with x, r2=0.9266219735145569, c=1\n",
      "fixing (0,0,13) with x, r2=0.721966028213501, c=1\n",
      "fixing (0,0,14) with x, r2=0.9825007319450378, c=1\n",
      "fixing (0,0,15) with x, r2=0.9766477346420288, c=1\n",
      "fixing (0,0,16) with x, r2=0.970497190952301, c=1\n",
      "fixing (0,1,0) with 0\n",
      "fixing (0,1,1) with x, r2=0.9904028177261353, c=1\n",
      "fixing (0,1,2) with x, r2=0.9964136481285095, c=1\n",
      "fixing (0,1,3) with x, r2=0.9825620055198669, c=1\n",
      "fixing (0,1,4) with x, r2=0.7220043540000916, c=1\n",
      "fixing (0,1,5) with x, r2=0.9743231534957886, c=1\n",
      "fixing (0,1,6) with x, r2=0.9739603400230408, c=1\n",
      "fixing (0,1,7) with x, r2=0.9755812287330627, c=1\n",
      "fixing (0,1,8) with x, r2=0.9774023294448853, c=1\n",
      "fixing (0,1,9) with x, r2=0.986911416053772, c=1\n",
      "fixing (0,1,10) with x, r2=0.6219739317893982, c=1\n",
      "fixing (0,1,11) with x, r2=0.985433042049408, c=1\n",
      "fixing (0,1,12) with x, r2=0.9866517186164856, c=1\n",
      "fixing (0,1,13) with x, r2=0.9119547009468079, c=1\n",
      "fixing (0,1,14) with x, r2=0.9780133366584778, c=1\n",
      "fixing (0,1,15) with x, r2=0.9956170320510864, c=1\n",
      "fixing (0,1,16) with x, r2=0.7592105269432068, c=1\n",
      "fixing (0,2,0) with x, r2=0.9456804990768433, c=1\n",
      "fixing (0,2,1) with x, r2=0.9700688123703003, c=1\n",
      "fixing (0,2,2) with x, r2=0.9869378805160522, c=1\n",
      "fixing (0,2,3) with x, r2=0.9815011620521545, c=1\n",
      "fixing (0,2,4) with x, r2=0.9336743354797363, c=1\n",
      "fixing (0,2,5) with x, r2=0.9816396236419678, c=1\n",
      "fixing (0,2,6) with x, r2=0.9868699312210083, c=1\n",
      "fixing (0,2,7) with x, r2=0.9865965843200684, c=1\n",
      "fixing (0,2,8) with x, r2=0.9992544651031494, c=1\n",
      "fixing (0,2,9) with x, r2=0.9857263565063477, c=1\n",
      "fixing (0,2,10) with x, r2=0.9791557192802429, c=1\n",
      "fixing (0,2,11) with x, r2=0.9946513772010803, c=1\n",
      "fixing (0,2,12) with x, r2=0.972031831741333, c=1\n",
      "fixing (0,2,13) with x, r2=0.9908983707427979, c=1\n",
      "fixing (0,2,14) with x, r2=0.9848335385322571, c=1\n",
      "fixing (0,2,15) with x, r2=0.995089590549469, c=1\n",
      "fixing (0,2,16) with x, r2=0.9484125375747681, c=1\n",
      "fixing (0,3,0) with 0\n",
      "fixing (0,3,1) with x, r2=0.9707992672920227, c=1\n",
      "fixing (0,3,2) with x, r2=0.24301454424858093, c=1\n",
      "fixing (0,3,3) with 0\n",
      "fixing (0,3,4) with x, r2=0.930634617805481, c=1\n",
      "fixing (0,3,5) with x, r2=0.9895657896995544, c=1\n",
      "fixing (0,3,6) with x, r2=0.9584205746650696, c=1\n",
      "fixing (0,3,7) with x, r2=0.9942482113838196, c=1\n",
      "fixing (0,3,8) with x, r2=0.12627504765987396, c=1\n",
      "fixing (0,3,9) with x, r2=0.988479495048523, c=1\n",
      "fixing (0,3,10) with x, r2=0.3240053355693817, c=1\n",
      "fixing (0,3,11) with 0\n",
      "fixing (0,3,12) with x, r2=0.9743849635124207, c=1\n",
      "fixing (0,3,13) with x, r2=0.9786111116409302, c=1\n",
      "fixing (0,3,14) with x, r2=0.990903377532959, c=1\n",
      "fixing (0,3,15) with x, r2=0.9982330203056335, c=1\n",
      "fixing (0,3,16) with x, r2=0.9873017072677612, c=1\n",
      "fixing (0,4,0) with x, r2=0.9806721806526184, c=1\n",
      "fixing (0,4,1) with x, r2=0.9917734265327454, c=1\n",
      "fixing (0,4,2) with x, r2=0.9829311370849609, c=1\n",
      "fixing (0,4,3) with x, r2=0.9656782150268555, c=1\n",
      "fixing (0,4,4) with x, r2=0.9890998601913452, c=1\n",
      "fixing (0,4,5) with x, r2=0.9807188510894775, c=1\n",
      "fixing (0,4,6) with x, r2=0.9720326662063599, c=1\n",
      "fixing (0,4,7) with 0\n",
      "fixing (0,4,8) with x, r2=0.9940599799156189, c=1\n",
      "fixing (0,4,9) with 0\n",
      "fixing (0,4,10) with x, r2=0.7428842186927795, c=1\n",
      "fixing (0,4,11) with x, r2=0.996343195438385, c=1\n",
      "fixing (0,4,12) with x, r2=0.9919698238372803, c=1\n",
      "fixing (0,4,13) with x, r2=0.9979004263877869, c=1\n",
      "fixing (0,4,14) with x, r2=0.9848263263702393, c=1\n",
      "fixing (0,4,15) with x, r2=0.9944897890090942, c=1\n",
      "fixing (0,4,16) with x, r2=0.9805171489715576, c=1\n",
      "fixing (0,5,0) with x, r2=0.9414519667625427, c=1\n",
      "fixing (0,5,1) with x, r2=0.6199895143508911, c=1\n",
      "fixing (0,5,2) with 0\n",
      "fixing (0,5,3) with x, r2=0.9818300604820251, c=1\n",
      "fixing (0,5,4) with 0\n",
      "fixing (0,5,5) with 0\n",
      "fixing (0,5,6) with x, r2=0.9148322939872742, c=1\n",
      "fixing (0,5,7) with x, r2=0.7584073543548584, c=1\n",
      "fixing (0,5,8) with x, r2=0.8894924521446228, c=1\n",
      "fixing (0,5,9) with x, r2=0.8458365797996521, c=1\n",
      "fixing (0,5,10) with x, r2=0.9724674224853516, c=1\n",
      "fixing (0,5,11) with x, r2=0.7989048361778259, c=1\n",
      "fixing (0,5,12) with x, r2=0.8545404672622681, c=1\n",
      "fixing (0,5,13) with 0\n",
      "fixing (0,5,14) with x, r2=0.9655976891517639, c=1\n",
      "fixing (0,5,15) with x, r2=0.9871470928192139, c=1\n",
      "fixing (0,5,16) with x, r2=0.9699955582618713, c=1\n",
      "fixing (0,6,0) with x, r2=0.9839438796043396, c=1\n",
      "fixing (0,6,1) with x, r2=0.9842948317527771, c=1\n",
      "fixing (0,6,2) with x, r2=0.9859243631362915, c=1\n",
      "fixing (0,6,3) with x, r2=0.9179624319076538, c=1\n",
      "fixing (0,6,4) with x, r2=0.9833655953407288, c=1\n",
      "fixing (0,6,5) with 0\n",
      "fixing (0,6,6) with x, r2=0.9571352601051331, c=1\n",
      "fixing (0,6,7) with x, r2=0.9749601483345032, c=1\n",
      "fixing (0,6,8) with x, r2=0.9980942606925964, c=1\n",
      "fixing (0,6,9) with x, r2=0.98698890209198, c=1\n",
      "fixing (0,6,10) with x, r2=0.9847548007965088, c=1\n",
      "fixing (0,6,11) with x, r2=0.9984475374221802, c=1\n",
      "fixing (0,6,12) with x, r2=0.9799073934555054, c=1\n",
      "fixing (0,6,13) with x, r2=0.9255029559135437, c=1\n",
      "fixing (0,6,14) with x, r2=0.9280714988708496, c=1\n",
      "fixing (0,6,15) with x, r2=0.9941324591636658, c=1\n",
      "fixing (0,6,16) with x, r2=0.804701566696167, c=1\n",
      "fixing (0,7,0) with x, r2=0.9671781063079834, c=1\n",
      "fixing (0,7,1) with x, r2=0.990062952041626, c=1\n",
      "fixing (0,7,2) with x, r2=0.9266467094421387, c=1\n",
      "fixing (0,7,3) with x, r2=0.997223436832428, c=1\n",
      "fixing (0,7,4) with x, r2=0.9428824186325073, c=1\n",
      "fixing (0,7,5) with 0\n",
      "fixing (0,7,6) with x, r2=0.9884101152420044, c=1\n",
      "fixing (0,7,7) with x, r2=0.9974722862243652, c=1\n",
      "fixing (0,7,8) with x, r2=0.9262456297874451, c=1\n",
      "fixing (0,7,9) with x, r2=0.9933966994285583, c=1\n",
      "fixing (0,7,10) with x, r2=0.9898515939712524, c=1\n",
      "fixing (0,7,11) with x, r2=0.9853739738464355, c=1\n",
      "fixing (0,7,12) with x, r2=0.9797159433364868, c=1\n",
      "fixing (0,7,13) with x, r2=0.9765907526016235, c=1\n",
      "fixing (0,7,14) with x, r2=0.9948160648345947, c=1\n",
      "fixing (0,7,15) with x, r2=0.9886149764060974, c=1\n",
      "fixing (0,7,16) with x, r2=0.9931125044822693, c=1\n",
      "fixing (0,8,0) with tan, r2=0.9992855191230774, c=3\n",
      "fixing (0,8,1) with tan, r2=0.9966158866882324, c=3\n",
      "fixing (0,8,2) with tan, r2=0.9999933242797852, c=3\n",
      "fixing (0,8,3) with x, r2=0.8542066216468811, c=1\n",
      "fixing (0,8,4) with tan, r2=0.9995236992835999, c=3\n",
      "fixing (0,8,5) with x, r2=0.9110828638076782, c=1\n",
      "fixing (0,8,6) with tan, r2=0.9996559023857117, c=3\n",
      "fixing (0,8,7) with x, r2=0.01050332747399807, c=1\n",
      "fixing (0,8,8) with x, r2=0.0082696583122015, c=1\n",
      "fixing (0,8,9) with 0\n",
      "fixing (0,8,10) with x, r2=0.1510465294122696, c=1\n",
      "fixing (0,8,11) with tan, r2=0.9998548030853271, c=3\n",
      "fixing (0,8,12) with x, r2=0.007166311610490084, c=1\n",
      "fixing (0,8,13) with x, r2=0.7235187292098999, c=1\n",
      "fixing (0,8,14) with 0\n",
      "fixing (0,8,15) with 0\n",
      "fixing (0,8,16) with x, r2=0.9683780074119568, c=1\n",
      "fixing (0,9,0) with x, r2=0.9610244035720825, c=1\n",
      "fixing (0,9,1) with x, r2=0.9035820960998535, c=1\n",
      "fixing (0,9,2) with 0\n",
      "fixing (0,9,3) with x, r2=0.9699432849884033, c=1\n",
      "fixing (0,9,4) with x, r2=0.9979013204574585, c=1\n",
      "fixing (0,9,5) with x, r2=0.9959787130355835, c=1\n",
      "fixing (0,9,6) with x, r2=0.9302634596824646, c=1\n",
      "fixing (0,9,7) with x, r2=0.9925985932350159, c=1\n",
      "fixing (0,9,8) with x, r2=0.9912334084510803, c=1\n",
      "fixing (0,9,9) with x, r2=0.9853461384773254, c=1\n",
      "fixing (0,9,10) with x, r2=0.9990764856338501, c=1\n",
      "fixing (0,9,11) with 0\n",
      "fixing (0,9,12) with x, r2=0.9984459280967712, c=1\n",
      "fixing (0,9,13) with x, r2=0.99924236536026, c=1\n",
      "fixing (0,9,14) with x, r2=0.982344388961792, c=1\n",
      "fixing (0,9,15) with exp, r2=0.9723222255706787, c=2\n",
      "fixing (0,9,16) with x, r2=0.9681495428085327, c=1\n",
      "fixing (0,10,0) with x, r2=0.9483931660652161, c=1\n",
      "fixing (0,10,1) with x, r2=0.9743521213531494, c=1\n",
      "fixing (0,10,2) with x, r2=0.9733518958091736, c=1\n",
      "fixing (0,10,3) with x, r2=0.9853782057762146, c=1\n",
      "fixing (0,10,4) with x, r2=0.9691619873046875, c=1\n",
      "fixing (0,10,5) with x, r2=0.982194721698761, c=1\n",
      "fixing (0,10,6) with x, r2=0.965739369392395, c=1\n",
      "fixing (0,10,7) with 0\n",
      "fixing (0,10,8) with x, r2=0.9753311276435852, c=1\n",
      "fixing (0,10,9) with x, r2=0.9579170346260071, c=1\n",
      "fixing (0,10,10) with x, r2=0.9805538654327393, c=1\n",
      "fixing (0,10,11) with 0\n",
      "fixing (0,10,12) with x, r2=0.8897162675857544, c=1\n",
      "fixing (0,10,13) with x, r2=0.9987959265708923, c=1\n",
      "fixing (0,10,14) with x, r2=0.9808647036552429, c=1\n",
      "fixing (0,10,15) with x, r2=0.9107880592346191, c=1\n",
      "fixing (0,10,16) with x, r2=0.928665041923523, c=1\n",
      "fixing (0,11,0) with x, r2=0.9851908683776855, c=1\n",
      "fixing (0,11,1) with x, r2=0.9680907726287842, c=1\n",
      "fixing (0,11,2) with x, r2=0.9957593083381653, c=1\n",
      "fixing (0,11,3) with x, r2=0.9911706447601318, c=1\n",
      "fixing (0,11,4) with x, r2=0.9994860887527466, c=1\n",
      "fixing (0,11,5) with x, r2=0.9917751550674438, c=1\n",
      "fixing (0,11,6) with 0\n",
      "fixing (0,11,7) with x, r2=0.9946193695068359, c=1\n",
      "fixing (0,11,8) with x, r2=0.9962366223335266, c=1\n",
      "fixing (0,11,9) with x, r2=0.985196053981781, c=1\n",
      "fixing (0,11,10) with x, r2=0.9979002475738525, c=1\n",
      "fixing (0,11,11) with x, r2=0.9873812198638916, c=1\n",
      "fixing (0,11,12) with x, r2=0.9963396787643433, c=1\n",
      "fixing (0,11,13) with x, r2=0.9995392560958862, c=1\n",
      "fixing (0,11,14) with x, r2=0.9794292449951172, c=1\n",
      "fixing (0,11,15) with x, r2=0.9703184366226196, c=1\n",
      "fixing (0,11,16) with x, r2=0.9902112483978271, c=1\n",
      "fixing (0,12,0) with x, r2=0.9895416498184204, c=1\n",
      "fixing (0,12,1) with 0\n",
      "fixing (0,12,2) with x, r2=0.8581205606460571, c=1\n",
      "fixing (0,12,3) with x, r2=0.9691656827926636, c=1\n",
      "fixing (0,12,4) with x, r2=0.3698666989803314, c=1\n",
      "fixing (0,12,5) with x, r2=0.9599582552909851, c=1\n",
      "fixing (0,12,6) with x, r2=0.503677248954773, c=1\n",
      "fixing (0,12,7) with x, r2=0.9337228536605835, c=1\n",
      "fixing (0,12,8) with x, r2=0.9851213693618774, c=1\n",
      "fixing (0,12,9) with 0\n",
      "fixing (0,12,10) with x, r2=0.8670973181724548, c=1\n",
      "fixing (0,12,11) with x, r2=0.95509272813797, c=1\n",
      "fixing (0,12,12) with x, r2=0.7440053820610046, c=1\n",
      "fixing (0,12,13) with x, r2=0.0462418869137764, c=1\n",
      "fixing (0,12,14) with x, r2=0.5426948666572571, c=1\n",
      "fixing (0,12,15) with x, r2=0.9888255000114441, c=1\n",
      "fixing (0,12,16) with x, r2=0.6408337354660034, c=1\n",
      "fixing (0,13,0) with x, r2=0.970242440700531, c=1\n",
      "fixing (0,13,1) with x, r2=0.9974555969238281, c=1\n",
      "fixing (0,13,2) with 0\n",
      "fixing (0,13,3) with x, r2=0.9805251955986023, c=1\n",
      "fixing (0,13,4) with x, r2=0.9993818402290344, c=1\n",
      "fixing (0,13,5) with x, r2=0.984915018081665, c=1\n",
      "fixing (0,13,6) with x, r2=0.9799244999885559, c=1\n",
      "fixing (0,13,7) with 0\n",
      "fixing (0,13,8) with x, r2=0.9974707961082458, c=1\n",
      "fixing (0,13,9) with 0\n",
      "fixing (0,13,10) with x, r2=0.9989624619483948, c=1\n",
      "fixing (0,13,11) with x, r2=0.9811107516288757, c=1\n",
      "fixing (0,13,12) with x, r2=0.951837420463562, c=1\n",
      "fixing (0,13,13) with x, r2=0.9995273351669312, c=1\n",
      "fixing (0,13,14) with x, r2=0.9905257225036621, c=1\n",
      "fixing (0,13,15) with x, r2=0.9604263305664062, c=1\n",
      "fixing (0,13,16) with x, r2=0.9965274333953857, c=1\n",
      "fixing (1,0,0) with 0\n",
      "fixing (1,0,1) with x, r2=0.786772608757019, c=1\n",
      "fixing (1,0,2) with 0\n",
      "fixing (1,0,3) with x, r2=0.8018354773521423, c=1\n",
      "fixing (1,1,0) with 0\n",
      "fixing (1,1,1) with x, r2=0.09687591344118118, c=1\n",
      "fixing (1,1,2) with sin, r2=0.9801043272018433, c=2\n",
      "fixing (1,1,3) with sin, r2=0.9806835651397705, c=2\n",
      "fixing (1,2,0) with x, r2=0.8653333187103271, c=1\n",
      "fixing (1,2,1) with x, r2=0.9588232636451721, c=1\n",
      "fixing (1,2,2) with x, r2=0.9666244983673096, c=1\n",
      "fixing (1,2,3) with x, r2=0.9523594379425049, c=1\n",
      "fixing (1,3,0) with x, r2=0.9439293742179871, c=1\n",
      "fixing (1,3,1) with x, r2=0.8401376605033875, c=1\n",
      "fixing (1,3,2) with x, r2=0.9736568927764893, c=1\n",
      "fixing (1,3,3) with x, r2=0.15064378082752228, c=1\n",
      "fixing (1,4,0) with x, r2=0.9546517133712769, c=1\n",
      "fixing (1,4,1) with x, r2=0.9291596412658691, c=1\n",
      "fixing (1,4,2) with 0\n",
      "fixing (1,4,3) with x, r2=0.7140932679176331, c=1\n",
      "fixing (1,5,0) with 0\n",
      "fixing (1,5,1) with x, r2=0.09185055643320084, c=1\n",
      "fixing (1,5,2) with x, r2=0.17804403603076935, c=1\n",
      "fixing (1,5,3) with x, r2=0.2947934865951538, c=1\n",
      "fixing (1,6,0) with x, r2=0.9997910261154175, c=1\n",
      "fixing (1,6,1) with x, r2=0.999916136264801, c=1\n",
      "fixing (1,6,2) with 0\n",
      "fixing (1,6,3) with x, r2=0.9999358057975769, c=1\n",
      "fixing (1,7,0) with 0\n",
      "fixing (1,7,1) with x, r2=0.8190749883651733, c=1\n",
      "fixing (1,7,2) with x, r2=0.8309296369552612, c=1\n",
      "fixing (1,7,3) with x, r2=0.4298335313796997, c=1\n",
      "fixing (1,8,0) with x, r2=0.9544740915298462, c=1\n",
      "fixing (1,8,1) with sin, r2=0.952856183052063, c=2\n",
      "fixing (1,8,2) with x, r2=0.7496145963668823, c=1\n",
      "fixing (1,8,3) with x, r2=0.0008706289227120578, c=1\n",
      "fixing (1,9,0) with 0\n",
      "fixing (1,9,1) with x, r2=0.9167340397834778, c=1\n",
      "fixing (1,9,2) with x, r2=0.9820963740348816, c=1\n",
      "fixing (1,9,3) with x, r2=0.21851614117622375, c=1\n",
      "fixing (1,10,0) with x, r2=0.9152247309684753, c=1\n",
      "fixing (1,10,1) with x, r2=0.981044352054596, c=1\n",
      "fixing (1,10,2) with x, r2=0.9894198179244995, c=1\n",
      "fixing (1,10,3) with x, r2=0.9878193736076355, c=1\n",
      "fixing (1,11,0) with 0\n",
      "fixing (1,11,1) with x, r2=0.9679452776908875, c=1\n",
      "fixing (1,11,2) with x, r2=0.9966415166854858, c=1\n",
      "fixing (1,11,3) with x, r2=0.9945278167724609, c=1\n",
      "fixing (1,12,0) with x, r2=0.9001282453536987, c=1\n",
      "fixing (1,12,1) with x, r2=0.02499298006296158, c=1\n",
      "fixing (1,12,2) with x, r2=0.8815456628799438, c=1\n",
      "fixing (1,12,3) with x, r2=0.042394571006298065, c=1\n",
      "fixing (1,13,0) with x, r2=0.9988512992858887, c=1\n",
      "fixing (1,13,1) with x, r2=0.9986267685890198, c=1\n",
      "fixing (1,13,2) with x, r2=0.9981136322021484, c=1\n",
      "fixing (1,13,3) with x, r2=0.9995927214622498, c=1\n",
      "fixing (1,14,0) with 0\n",
      "fixing (1,14,1) with x, r2=0.2895452678203583, c=1\n",
      "fixing (1,14,2) with x, r2=0.0005553417722694576, c=1\n",
      "fixing (1,14,3) with x, r2=0.14488781988620758, c=1\n",
      "fixing (1,15,0) with 0\n",
      "fixing (1,15,1) with x, r2=0.7513493299484253, c=1\n",
      "fixing (1,15,2) with x, r2=0.7077885866165161, c=1\n",
      "fixing (1,15,3) with x, r2=0.2841508984565735, c=1\n",
      "fixing (1,16,0) with 0\n",
      "fixing (1,16,1) with x, r2=0.9398155212402344, c=1\n",
      "fixing (1,16,2) with x, r2=0.9588360786437988, c=1\n",
      "fixing (1,16,3) with x, r2=0.9268860220909119, c=1\n",
      "fixing (2,0,0) with x, r2=0.2893250584602356, c=1\n",
      "fixing (2,1,0) with x, r2=0.9977567791938782, c=1\n",
      "fixing (2,2,0) with x, r2=0.8901906609535217, c=1\n",
      "fixing (2,3,0) with x, r2=0.972642183303833, c=1\n",
      "saving model version 0.8\n"
     ]
    },
    {
     "data": {
      "text/latex": [
       "$\\displaystyle 0.0234 x_{1} + 0.3599 x_{10} + 0.0605 x_{11} + 0.2014 x_{12} + 0.024 x_{13} + 0.4498 x_{14} + 0.054 x_{2} - 0.0219 x_{3} + 0.012 x_{4} - 0.0353 x_{5} - 0.0043 x_{6} - 0.0519 x_{7} + 0.0257 x_{8} - 0.0032 x_{9} + 0.1862 \\sin{\\left(0.0322 x_{1} - 0.0083 x_{10} + 0.0127 x_{11} + 0.0219 x_{12} - 0.0214 x_{14} - 0.0354 x_{2} + 0.0103 x_{3} - 0.0052 x_{4} - 0.0131 x_{5} - 0.0023 x_{6} + 0.0348 x_{7} + 0.0383 x_{8} - 0.0045 \\tan{\\left(1.8316 x_{9} + 7.8003 \\right)} + 8.4909 \\right)} + 0.4192 \\sin{\\left(0.0342 x_{1} - 0.0088 x_{10} + 0.0135 x_{11} + 0.0233 x_{12} - 0.0227 x_{14} - 0.0376 x_{2} + 0.0109 x_{3} - 0.0056 x_{4} - 0.0139 x_{5} - 0.0025 x_{6} + 0.037 x_{7} + 0.0407 x_{8} - 0.0048 \\tan{\\left(1.8316 x_{9} + 7.8003 \\right)} + 8.5125 \\right)} + 0.2834 \\sin{\\left(0.0201 x_{1} + 0.0803 x_{10} + 0.0212 x_{11} + 0.0426 x_{12} + 0.0109 x_{13} + 0.1045 x_{14} + 0.0687 x_{2} - 0.0494 x_{3} + 0.0005 x_{4} - 0.0802 x_{5} - 0.0084 x_{6} - 0.0883 x_{7} + 0.0202 x_{8} - 0.0243 x_{9} - 1.3111 \\right)} + 0.0014 \\tan{\\left(0.8722 x_{9} - 1.5962 \\right)} + 0.0003 \\tan{\\left(3.2517 x_{9} - 4.8023 \\right)} + 0.0001 \\tan{\\left(5.4643 x_{9} - 8.0043 \\right)} + 0.0002 \\tan{\\left(8.5506 x_{9} - 1.804 \\right)} - 0.2958 - 0.0006 e^{- 6.0334 x_{10}}$"
      ],
      "text/plain": [
       "0.0234*x_1 + 0.3599*x_10 + 0.0605*x_11 + 0.2014*x_12 + 0.024*x_13 + 0.4498*x_14 + 0.054*x_2 - 0.0219*x_3 + 0.012*x_4 - 0.0353*x_5 - 0.0043*x_6 - 0.0519*x_7 + 0.0257*x_8 - 0.0032*x_9 + 0.1862*sin(0.0322*x_1 - 0.0083*x_10 + 0.0127*x_11 + 0.0219*x_12 - 0.0214*x_14 - 0.0354*x_2 + 0.0103*x_3 - 0.0052*x_4 - 0.0131*x_5 - 0.0023*x_6 + 0.0348*x_7 + 0.0383*x_8 - 0.0045*tan(1.8316*x_9 + 7.8003) + 8.4909) + 0.4192*sin(0.0342*x_1 - 0.0088*x_10 + 0.0135*x_11 + 0.0233*x_12 - 0.0227*x_14 - 0.0376*x_2 + 0.0109*x_3 - 0.0056*x_4 - 0.0139*x_5 - 0.0025*x_6 + 0.037*x_7 + 0.0407*x_8 - 0.0048*tan(1.8316*x_9 + 7.8003) + 8.5125) + 0.2834*sin(0.0201*x_1 + 0.0803*x_10 + 0.0212*x_11 + 0.0426*x_12 + 0.0109*x_13 + 0.1045*x_14 + 0.0687*x_2 - 0.0494*x_3 + 0.0005*x_4 - 0.0802*x_5 - 0.0084*x_6 - 0.0883*x_7 + 0.0202*x_8 - 0.0243*x_9 - 1.3111) + 0.0014*tan(0.8722*x_9 - 1.5962) + 0.0003*tan(3.2517*x_9 - 4.8023) + 0.0001*tan(5.4643*x_9 - 8.0043) + 0.0002*tan(8.5506*x_9 - 1.804) - 0.2958 - 0.0006*exp(-6.0334*x_10)"
      ]
     },
     "execution_count": 30,
     "metadata": {},
     "output_type": "execute_result"
    }
   ],
   "source": [
    "lib = ['x','x^2','x^3','x^4','exp','log','sqrt','tanh','sin','tan','abs']\n",
    "model.auto_symbolic(lib=lib)\n",
    "formula = model.symbolic_formula()[0][0]\n",
    "ex_round(formula, 4)"
   ]
  },
  {
   "cell_type": "code",
   "execution_count": 29,
   "id": "8ce1f3e8-2a81-4ad5-9d5f-2450ac73377b",
   "metadata": {
    "scrolled": true
   },
   "outputs": [
    {
     "data": {
      "image/png": "[encoded data removed]",
      "text/plain": [
       "<Figure size 500x600 with 333 Axes>"
      ]
     },
     "metadata": {},
     "output_type": "display_data"
    }
   ],
   "source": [
    "\n",
    "model.plot()"
   ]
  },
  {
   "cell_type": "code",
   "execution_count": 31,
   "id": "2c04fa55-960e-43c4-9c5b-2d1477493634",
   "metadata": {},
   "outputs": [
    {
     "name": "stderr",
     "output_type": "stream",
     "text": [
      "| train_loss: 2.46e-03 | test_loss: 2.58e-03 | reg: 0.00e+00 | : 100%|█| 100/100 [04:01<00:00,  2.42"
     ]
    },
    {
     "name": "stdout",
     "output_type": "stream",
     "text": [
      "saving model version 0.9\n"
     ]
    },
    {
     "name": "stderr",
     "output_type": "stream",
     "text": [
      "\n"
     ]
    }
   ],
   "source": [
    "model.fit(dataset, opt=\"LBFGS\", steps=100);"
   ]
  },
  {
   "cell_type": "code",
   "execution_count": 32,
   "id": "8a844356-7e26-4abc-b46c-a3e990f644d5",
   "metadata": {},
   "outputs": [
    {
     "name": "stdout",
     "output_type": "stream",
     "text": [
      "0.007175*x_1 + 0.361386*x_10 + 0.066261*x_11 + 0.203938*x_12 + 0.003782*x_13 + 0.407646*x_14 + 0.080497*x_2 - 0.023767*x_3 - 0.003992*x_4 - 0.026114*x_5 - 0.001403*x_6 - 0.017877*x_7 + 0.01171*x_8 + 0.002264*x_9 + 0.1752*sin(0.02528*x_1 - 0.009958*x_10 + 0.011566*x_11 + 0.021697*x_12 - 0.021146*x_14 - 0.037964*x_2 + 0.008549*x_3 - 0.006235*x_4 - 0.015901*x_5 - 0.003785*x_6 + 0.027522*x_7 + 0.030122*x_8 - 0.003423*tan(1.834435*x_9 + 7.776092) + 8.469983) + 0.41752*sin(0.026681*x_1 - 0.01051*x_10 + 0.012207*x_11 + 0.0229*x_12 - 0.022318*x_14 - 0.040068*x_2 + 0.009023*x_3 - 0.006581*x_4 - 0.016782*x_5 - 0.003995*x_6 + 0.029047*x_7 + 0.031791*x_8 - 0.003613*tan(1.834435*x_9 + 7.776092) + 8.490103) - 0.19191*sin(-0.019771*x_1 - 0.075762*x_10 - 0.01433*x_11 - 0.044286*x_12 + 0.002651*x_13 - 0.098906*x_14 - 0.062154*x_2 + 0.058925*x_3 + 0.019138*x_4 + 0.083823*x_5 + 0.009142*x_6 + 0.089338*x_7 - 0.02037*x_8 + 0.02521*x_9 + 1.123854) - 0.000531*tan(0.873962*x_9 - 1.602526) - 1.5e-5*tan(1.834435*x_9 + 7.776092) + 0.000134*tan(3.251264*x_9 - 4.80542) + 2.1e-5*tan(5.464278*x_9 - 8.005898) + 0.000462*tan(8.550338*x_9 - 1.824025) + 0.000194*tan(8.562433*x_9 - 1.79910600185394) - 0.305039 - 0.000137*exp(-6.033359*x_10)\n"
     ]
    },
    {
     "data": {
      "text/latex": [
       "$\\displaystyle 0.007175 x_{1} + 0.361386 x_{10} + 0.066261 x_{11} + 0.203938 x_{12} + 0.003782 x_{13} + 0.407646 x_{14} + 0.080497 x_{2} - 0.023767 x_{3} - 0.003992 x_{4} - 0.026114 x_{5} - 0.001403 x_{6} - 0.017877 x_{7} + 0.01171 x_{8} + 0.002264 x_{9} + 0.1752 \\sin{\\left(0.02528 x_{1} - 0.009958 x_{10} + 0.011566 x_{11} + 0.021697 x_{12} - 0.021146 x_{14} - 0.037964 x_{2} + 0.008549 x_{3} - 0.006235 x_{4} - 0.015901 x_{5} - 0.003785 x_{6} + 0.027522 x_{7} + 0.030122 x_{8} - 0.003423 \\tan{\\left(1.834435 x_{9} + 7.776092 \\right)} + 8.469983 \\right)} + 0.41752 \\sin{\\left(0.026681 x_{1} - 0.01051 x_{10} + 0.012207 x_{11} + 0.0229 x_{12} - 0.022318 x_{14} - 0.040068 x_{2} + 0.009023 x_{3} - 0.006581 x_{4} - 0.016782 x_{5} - 0.003995 x_{6} + 0.029047 x_{7} + 0.031791 x_{8} - 0.003613 \\tan{\\left(1.834435 x_{9} + 7.776092 \\right)} + 8.490103 \\right)} - 0.19191 \\sin{\\left(- 0.019771 x_{1} - 0.075762 x_{10} - 0.01433 x_{11} - 0.044286 x_{12} + 0.002651 x_{13} - 0.098906 x_{14} - 0.062154 x_{2} + 0.058925 x_{3} + 0.019138 x_{4} + 0.083823 x_{5} + 0.009142 x_{6} + 0.089338 x_{7} - 0.02037 x_{8} + 0.02521 x_{9} + 1.123854 \\right)} - 0.000531 \\tan{\\left(0.873962 x_{9} - 1.602526 \\right)} - 1.5 \\cdot 10^{-5} \\tan{\\left(1.834435 x_{9} + 7.776092 \\right)} + 0.000134 \\tan{\\left(3.251264 x_{9} - 4.80542 \\right)} + 2.1 \\cdot 10^{-5} \\tan{\\left(5.464278 x_{9} - 8.005898 \\right)} + 0.000462 \\tan{\\left(8.550338 x_{9} - 1.824025 \\right)} + 0.000194 \\tan{\\left(8.562433 x_{9} - 1.79910600185394 \\right)} - 0.305039 - 0.000137 e^{- 6.033359 x_{10}}$"
      ],
      "text/plain": [
       "0.007175*x_1 + 0.361386*x_10 + 0.066261*x_11 + 0.203938*x_12 + 0.003782*x_13 + 0.407646*x_14 + 0.080497*x_2 - 0.023767*x_3 - 0.003992*x_4 - 0.026114*x_5 - 0.001403*x_6 - 0.017877*x_7 + 0.01171*x_8 + 0.002264*x_9 + 0.1752*sin(0.02528*x_1 - 0.009958*x_10 + 0.011566*x_11 + 0.021697*x_12 - 0.021146*x_14 - 0.037964*x_2 + 0.008549*x_3 - 0.006235*x_4 - 0.015901*x_5 - 0.003785*x_6 + 0.027522*x_7 + 0.030122*x_8 - 0.003423*tan(1.834435*x_9 + 7.776092) + 8.469983) + 0.41752*sin(0.026681*x_1 - 0.01051*x_10 + 0.012207*x_11 + 0.0229*x_12 - 0.022318*x_14 - 0.040068*x_2 + 0.009023*x_3 - 0.006581*x_4 - 0.016782*x_5 - 0.003995*x_6 + 0.029047*x_7 + 0.031791*x_8 - 0.003613*tan(1.834435*x_9 + 7.776092) + 8.490103) - 0.19191*sin(-0.019771*x_1 - 0.075762*x_10 - 0.01433*x_11 - 0.044286*x_12 + 0.002651*x_13 - 0.098906*x_14 - 0.062154*x_2 + 0.058925*x_3 + 0.019138*x_4 + 0.083823*x_5 + 0.009142*x_6 + 0.089338*x_7 - 0.02037*x_8 + 0.02521*x_9 + 1.123854) - 0.000531*tan(0.873962*x_9 - 1.602526) - 1.5e-5*tan(1.834435*x_9 + 7.776092) + 0.000134*tan(3.251264*x_9 - 4.80542) + 2.1e-5*tan(5.464278*x_9 - 8.005898) + 0.000462*tan(8.550338*x_9 - 1.824025) + 0.000194*tan(8.562433*x_9 - 1.79910600185394) - 0.305039 - 0.000137*exp(-6.033359*x_10)"
      ]
     },
     "execution_count": 32,
     "metadata": {},
     "output_type": "execute_result"
    }
   ],
   "source": [
    "formula = model.symbolic_formula()[0][0]\n",
    "print(ex_round(formula, 6))\n",
    "ex_round(formula, 6)"
   ]
  },
  {
   "cell_type": "code",
   "execution_count": null,
   "id": "26fc23b6-7741-4ce2-b726-d585612e7718",
   "metadata": {},
   "outputs": [],
   "source": [
    "0.0065185404*x_1 - 0.0015733551*x_2 + 0.0023067647*x_3 - 0.0002042616*x_5 + 0.0093320001*x_6 - 0.0015581805*x_7 + 0.0099164573*x_8 + 0.001312092*(0.7166879818 - x_4)**2 + 0.0022884607*(0.7406031193 - x_4)**2 + 0.0009999082*(-0.819869655*x_4 - 1)**2 + 46.6913477541*(0.0039577492*x_1 - 0.0155221708*x_2 - 0.0036076508*x_3 + 0.0040898939*x_5 + 0.0018537795*x_6 - 0.0031114135*x_7 - 0.0028412879*x_8 + 0.2272191467 - exp(-0.2109505087*x_4))**2 + 0.5937337504*(0.0039577492*x_1 - 0.0155221708*x_2 - 0.0036076508*x_3 + 0.0040898939*x_5 + 0.0018537795*x_6 - 0.0031114135*x_7 - 0.0028412879*x_8 + 0.2272989253 - exp(-0.2109505087*x_4))**2 - 47.6681848878*(0.0039577492*x_1 - 0.0155221708*x_2 - 0.0036076508*x_3 + 0.0040898939*x_5 + 0.0018537795*x_6 - 0.0031114135*x_7 - 0.0028412879*x_8 + 0.2281913227 - exp(-0.2109505087*x_4))**2 + 0.4300457254*(0.0039577492*x_1 - 0.0155221708*x_2 - 0.0036076508*x_3 + 0.0040898939*x_5 + 0.0018537795*x_6 - 0.0031114135*x_7 - 0.0028412879*x_8 + 0.2307012479 - exp(-0.2109505087*x_4))**2 + 0.0285281814*exp(0.670906961*x_4) + 0.0060065173 - 2.12668e-5*exp(-2.2581598759*x_4) - 0.1950089176*exp(-0.2109505087*x_4)"
   ]
  },
  {
   "cell_type": "code",
   "execution_count": 33,
   "id": "6c28beb2-767e-481e-bb92-afc91a54dca1",
   "metadata": {},
   "outputs": [
    {
     "name": "stdout",
     "output_type": "stream",
     "text": [
      "torch.Size([23979, 1])\n",
      "kan  MSE: tensor(6.0511e-06, device='cuda:0', grad_fn=<MeanBackward0>)\n"
     ]
    },
    {
     "ename": "NameError",
     "evalue": "name 'np_label_1' is not defined",
     "output_type": "error",
     "traceback": [
      "\u001b[0;31m---------------------------------------------------------------------------\u001b[0m",
      "\u001b[0;31mNameError\u001b[0m                                 Traceback (most recent call last)",
      "Cell \u001b[0;32mIn[33], line 6\u001b[0m\n\u001b[1;32m      4\u001b[0m \u001b[38;5;28mprint\u001b[39m(model_output\u001b[38;5;241m.\u001b[39mshape)\n\u001b[1;32m      5\u001b[0m \u001b[38;5;28mprint\u001b[39m(\u001b[38;5;124m'\u001b[39m\u001b[38;5;124mkan  MSE:\u001b[39m\u001b[38;5;124m'\u001b[39m, torch\u001b[38;5;241m.\u001b[39mmean((model_output \u001b[38;5;241m-\u001b[39m dataset[\u001b[38;5;124m'\u001b[39m\u001b[38;5;124mtrain_label\u001b[39m\u001b[38;5;124m'\u001b[39m])\u001b[38;5;241m*\u001b[39m\u001b[38;5;241m*\u001b[39m\u001b[38;5;241m2\u001b[39m))\n\u001b[0;32m----> 6\u001b[0m \u001b[38;5;28mprint\u001b[39m(\u001b[38;5;124m'\u001b[39m\u001b[38;5;124mTKEB MSE:\u001b[39m\u001b[38;5;124m'\u001b[39m, torch\u001b[38;5;241m.\u001b[39mmean((torch\u001b[38;5;241m.\u001b[39mfrom_numpy(\u001b[43mnp_label_1\u001b[49m\u001b[38;5;241m.\u001b[39mastype(np\u001b[38;5;241m.\u001b[39mfloat32))\u001b[38;5;241m.\u001b[39mcpu()[:\u001b[38;5;241m200\u001b[39m] \u001b[38;5;241m-\u001b[39m torch\u001b[38;5;241m.\u001b[39mabs(dataset[\u001b[38;5;124m'\u001b[39m\u001b[38;5;124mtrain_label\u001b[39m\u001b[38;5;124m'\u001b[39m]))\u001b[38;5;241m*\u001b[39m\u001b[38;5;241m*\u001b[39m\u001b[38;5;241m2\u001b[39m))\n\u001b[1;32m      7\u001b[0m \u001b[38;5;66;03m#print(torch.abs(model_output))\u001b[39;00m\n",
      "\u001b[0;31mNameError\u001b[0m: name 'np_label_1' is not defined"
     ]
    }
   ],
   "source": [
    "ex_round(model, 3)\n",
    "\n",
    "model_output = model(dataset['train_input'])\n",
    "print(model_output.shape)\n",
    "print('kan  MSE:', torch.mean((model_output - dataset['train_label'])**2))\n",
    "print('TKEB MSE:', torch.mean((torch.from_numpy(np_label_1.astype(np.float32)).cpu()[:200] - torch.abs(dataset['train_label']))**2))\n",
    "#print(torch.abs(model_output))"
   ]
  },
  {
   "cell_type": "code",
   "execution_count": 34,
   "id": "df48f4d3-977e-48fa-b349-b447fef2298b",
   "metadata": {},
   "outputs": [
    {
     "name": "stdout",
     "output_type": "stream",
     "text": [
      "[0.12276767 0.1739469  0.15210673 0.07503056 0.22577891 0.06127778\n",
      " 0.2112001  0.1974251  0.2157481  0.5605042  0.15226427 0.32930163\n",
      " 0.05042857 0.6309824 ]\n"
     ]
    },
    {
     "data": {
      "text/plain": [
       "Text(0, 0.5, 'feature attribution score')"
      ]
     },
     "execution_count": 34,
     "metadata": {},
     "output_type": "execute_result"
    },
    {
     "data": {
      "image/png": "[encoded data removed]",
      "text/plain": [
       "<Figure size 640x480 with 1 Axes>"
      ]
     },
     "metadata": {},
     "output_type": "display_data"
    }
   ],
   "source": [
    "print(model.feature_score.cpu().detach().numpy())\n",
    "import matplotlib.pyplot as plt\n",
    "plt.scatter(np.arange(14)+1, model.feature_score.cpu().detach().numpy())\n",
    "plt.xlabel('rank of input features', fontsize=15)\n",
    "plt.ylabel('feature attribution score', fontsize=15)"
   ]
  },
  {
   "cell_type": "code",
   "execution_count": 146,
   "id": "33a6d5b5-c9c5-49f5-846e-d47337141d03",
   "metadata": {},
   "outputs": [
    {
     "name": "stdout",
     "output_type": "stream",
     "text": [
      "tensor([[ 0.0010],\n",
      "        [-0.0018],\n",
      "        [ 0.0097],\n",
      "        [ 0.0005],\n",
      "        [-0.0071],\n",
      "        [ 0.0014],\n",
      "        [-0.0167],\n",
      "        [-0.0006],\n",
      "        [ 0.0202],\n",
      "        [ 0.0119],\n",
      "        [ 0.0043],\n",
      "        [ 0.0081],\n",
      "        [ 0.0189],\n",
      "        [ 0.0216],\n",
      "        [ 0.0187],\n",
      "        [ 0.0080],\n",
      "        [ 0.0143],\n",
      "        [-0.0025],\n",
      "        [ 0.0230],\n",
      "        [ 0.0166],\n",
      "        [ 0.0070],\n",
      "        [-0.0019],\n",
      "        [ 0.0109],\n",
      "        [ 0.0096],\n",
      "        [ 0.0200],\n",
      "        [ 0.0046],\n",
      "        [ 0.0011],\n",
      "        [ 0.0265],\n",
      "        [ 0.0086],\n",
      "        [ 0.0133],\n",
      "        [ 0.0186],\n",
      "        [ 0.0006],\n",
      "        [ 0.0368],\n",
      "        [ 0.0049],\n",
      "        [-0.0046],\n",
      "        [ 0.0361],\n",
      "        [ 0.0106],\n",
      "        [ 0.0261],\n",
      "        [ 0.0047],\n",
      "        [ 0.0112],\n",
      "        [ 0.0319],\n",
      "        [ 0.0485],\n",
      "        [ 0.0159],\n",
      "        [ 0.0093],\n",
      "        [ 0.0257],\n",
      "        [ 0.0169],\n",
      "        [ 0.0148],\n",
      "        [ 0.0163],\n",
      "        [ 0.0413],\n",
      "        [ 0.0234],\n",
      "        [ 0.0097],\n",
      "        [ 0.0179],\n",
      "        [ 0.0369],\n",
      "        [ 0.0130],\n",
      "        [ 0.0093],\n",
      "        [ 0.0143],\n",
      "        [ 0.0456],\n",
      "        [ 0.0653],\n",
      "        [ 0.0543],\n",
      "        [ 0.0496],\n",
      "        [ 0.0535],\n",
      "        [ 0.0314],\n",
      "        [ 0.0223],\n",
      "        [ 0.0249],\n",
      "        [ 0.0249],\n",
      "        [ 0.0408],\n",
      "        [ 0.0144],\n",
      "        [ 0.0355],\n",
      "        [ 0.0291],\n",
      "        [ 0.0276],\n",
      "        [ 0.0341],\n",
      "        [ 0.0774],\n",
      "        [ 0.0255],\n",
      "        [ 0.0339],\n",
      "        [ 0.0498],\n",
      "        [ 0.0627],\n",
      "        [ 0.0303],\n",
      "        [ 0.0216],\n",
      "        [ 0.0185],\n",
      "        [ 0.0349],\n",
      "        [ 0.0309],\n",
      "        [ 0.0077],\n",
      "        [ 0.0383],\n",
      "        [ 0.0336],\n",
      "        [ 0.0953],\n",
      "        [ 0.0516],\n",
      "        [ 0.0528],\n",
      "        [ 0.0756],\n",
      "        [ 0.0683],\n",
      "        [ 0.1025],\n",
      "        [ 0.0413],\n",
      "        [ 0.0288],\n",
      "        [ 0.0369],\n",
      "        [ 0.0364],\n",
      "        [ 0.0174],\n",
      "        [ 0.0432],\n",
      "        [ 0.0625],\n",
      "        [ 0.0233],\n",
      "        [ 0.0429],\n",
      "        [ 0.0325],\n",
      "        [ 0.0554],\n",
      "        [ 0.0500],\n",
      "        [ 0.0726],\n",
      "        [ 0.1243],\n",
      "        [ 0.0395],\n",
      "        [ 0.0245],\n",
      "        [ 0.0667],\n",
      "        [ 0.0304],\n",
      "        [ 0.0353],\n",
      "        [ 0.0598],\n",
      "        [ 0.0811],\n",
      "        [ 0.0443],\n",
      "        [ 0.0331],\n",
      "        [ 0.0516],\n",
      "        [ 0.0322],\n",
      "        [ 0.0472],\n",
      "        [ 0.0571],\n",
      "        [ 0.1203],\n",
      "        [ 0.0587],\n",
      "        [ 0.0387],\n",
      "        [ 0.0488],\n",
      "        [ 0.0241],\n",
      "        [ 0.1023],\n",
      "        [ 0.0666],\n",
      "        [ 0.0575],\n",
      "        [ 0.0685],\n",
      "        [ 0.0984],\n",
      "        [ 0.0517],\n",
      "        [ 0.0559],\n",
      "        [ 0.0374],\n",
      "        [ 0.0603],\n",
      "        [ 0.0577],\n",
      "        [ 0.0287],\n",
      "        [ 0.0860],\n",
      "        [ 0.0971],\n",
      "        [ 0.1127],\n",
      "        [ 0.0710],\n",
      "        [ 0.1053],\n",
      "        [ 0.0552],\n",
      "        [ 0.0601],\n",
      "        [ 0.0402],\n",
      "        [ 0.0614],\n",
      "        [ 0.1119],\n",
      "        [ 0.0767],\n",
      "        [ 0.0496],\n",
      "        [ 0.0839],\n",
      "        [ 0.0681],\n",
      "        [ 0.0537],\n",
      "        [ 0.0261],\n",
      "        [ 0.0728],\n",
      "        [ 0.0860],\n",
      "        [ 0.1884],\n",
      "        [ 0.0769],\n",
      "        [ 0.0368],\n",
      "        [ 0.0474],\n",
      "        [ 0.0977],\n",
      "        [ 0.1116],\n",
      "        [ 0.0656],\n",
      "        [ 0.0386],\n",
      "        [ 0.0722],\n",
      "        [ 0.1747],\n",
      "        [ 0.0977],\n",
      "        [ 0.0647],\n",
      "        [ 0.0929],\n",
      "        [ 0.0722],\n",
      "        [ 0.0484],\n",
      "        [ 0.0574],\n",
      "        [ 0.0608],\n",
      "        [ 0.2099],\n",
      "        [ 0.1657],\n",
      "        [ 0.0840],\n",
      "        [ 0.1214],\n",
      "        [ 0.0918],\n",
      "        [ 0.1900],\n",
      "        [ 0.0745],\n",
      "        [ 0.0741],\n",
      "        [ 0.0607],\n",
      "        [ 0.1045],\n",
      "        [ 0.0826],\n",
      "        [ 0.0600],\n",
      "        [ 0.1238],\n",
      "        [ 0.0781],\n",
      "        [ 0.0558],\n",
      "        [ 0.1446],\n",
      "        [ 0.0990],\n",
      "        [ 0.0806],\n",
      "        [ 0.1556],\n",
      "        [ 0.1157],\n",
      "        [ 0.0520],\n",
      "        [ 0.0643],\n",
      "        [ 0.0781],\n",
      "        [ 0.1484],\n",
      "        [ 0.0835],\n",
      "        [ 0.0978],\n",
      "        [ 0.0463],\n",
      "        [ 0.1140],\n",
      "        [ 0.1367],\n",
      "        [ 0.1429],\n",
      "        [ 0.1289],\n",
      "        [ 0.0827]], grad_fn=<AddBackward0>)\n"
     ]
    }
   ],
   "source": [
    "model_output = model(dataset['train_input'])\n",
    "print(model_output)"
   ]
  },
  {
   "cell_type": "code",
   "execution_count": 57,
   "id": "1dc7e2c7-302b-41b0-8cec-7b6afc9e5348",
   "metadata": {},
   "outputs": [
    {
     "name": "stdout",
     "output_type": "stream",
     "text": [
      "saving model version 0.3\n"
     ]
    },
    {
     "name": "stderr",
     "output_type": "stream",
     "text": [
      "| train_loss: 1.31e+10 | test_loss: 1.44e+10 | reg: 5.44e+06 | : 100%|█| 50/50 [00:01<00:00, 47.79it\n"
     ]
    },
    {
     "name": "stdout",
     "output_type": "stream",
     "text": [
      "saving model version 0.4\n",
      "saving model version 0.5\n"
     ]
    },
    {
     "name": "stderr",
     "output_type": "stream",
     "text": [
      "| train_loss: nan | test_loss: nan | reg: nan | : 100%|█████████████| 50/50 [00:01<00:00, 42.57it/s]\n"
     ]
    },
    {
     "name": "stdout",
     "output_type": "stream",
     "text": [
      "saving model version 0.6\n",
      "saving model version 0.7\n"
     ]
    },
    {
     "name": "stderr",
     "output_type": "stream",
     "text": [
      "| train_loss: nan | test_loss: nan | reg: nan | : 100%|█████████████| 50/50 [00:01<00:00, 35.41it/s]\n"
     ]
    },
    {
     "name": "stdout",
     "output_type": "stream",
     "text": [
      "saving model version 0.8\n",
      "saving model version 0.9\n"
     ]
    },
    {
     "name": "stderr",
     "output_type": "stream",
     "text": [
      "| train_loss: nan | test_loss: nan | reg: nan | : 100%|█████████████| 50/50 [00:02<00:00, 21.24it/s]\n"
     ]
    },
    {
     "name": "stdout",
     "output_type": "stream",
     "text": [
      "saving model version 0.10\n"
     ]
    }
   ],
   "source": [
    "grids = [5,10,20,50]\n",
    "#grids = [5]\n",
    "\n",
    "train_rmse = []\n",
    "test_rmse = []\n",
    "\n",
    "for i in range(len(grids)):\n",
    "    #model = KAN(width=[4,2,1,1], grid=grids[i], k=3, seed=0, device=device).initialize_from_another_model(model, dataset['train_input'])\n",
    "    model = model.refine(grids[i])\n",
    "    results = model.fit(datasemodel = model.refine(10)\n",
    "    train_rmse.append(results['train_loss'][-1].item())\n",
    "    test_rmse.append(results['test_loss'][-1].item())"
   ]
  },
  {
   "cell_type": "code",
   "execution_count": null,
   "id": "1c053a64-d727-4f3d-9a25-411b1bebf1b3",
   "metadata": {},
   "outputs": [],
   "source": []
  }
 ],
 "metadata": {
  "kernelspec": {
   "display_name": "Python 3 (ipykernel)",
   "language": "python",
   "name": "python3"
  },
  "language_info": {
   "codemirror_mode": {
    "name": "ipython",
    "version": 3
   },
   "file_extension": ".py",
   "mimetype": "text/x-python",
   "name": "python",
   "nbconvert_exporter": "python",
   "pygments_lexer": "ipython3",
   "version": "3.12.3"
  }
 },
 "nbformat": 4,
 "nbformat_minor": 5
}
