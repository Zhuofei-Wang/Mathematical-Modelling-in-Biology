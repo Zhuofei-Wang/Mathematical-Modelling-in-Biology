{
 "cells": [
  {
   "cell_type": "code",
   "execution_count": 11,
   "id": "1076c512-b522-4702-8d00-d675183c82c4",
   "metadata": {},
   "outputs": [
    {
     "name": "stdout",
     "output_type": "stream",
     "text": [
      "[[36.9  21.8   1.7  ...  2.    0.32  2.4 ]\n",
      " [36.1  12.9   2.8  ...  2.    0.32  1.8 ]\n",
      " [25.3  13.7   1.8  ...  2.    0.32  1.3 ]\n",
      " ...\n",
      " [20.7  14.5   1.4  ...  4.    2.89  3.9 ]\n",
      " [35.2  12.7   2.8  ...  4.    2.89  3.8 ]\n",
      " [42.1  17.    2.5  ...  4.    2.89  4.4 ]]\n",
      "(200, 17)\n"
     ]
    }
   ],
   "source": [
    "print(np_data[:200,:])\n",
    "print(np_data[:200,[0,1,3,5,6,7,10,11,12,13,14,17,18,19,22,23,24]].shape)\n",
    "np_data[:200,[5,7,10,14,17,19,22,24]])\n",
    "np_data[:200,[4,10,17]])"
   ]
  },
  {
   "cell_type": "code",
   "execution_count": 1,
   "id": "3f3fd7a7-db3e-4900-aa67-67ea68d569e6",
   "metadata": {},
   "outputs": [
    {
     "name": "stdout",
     "output_type": "stream",
     "text": [
      "cpu\n",
      "checkpoint directory created: ./model\n",
      "saving model version 0.0\n",
      "torch.Size([3000, 4]) torch.Size([1000, 4]) torch.Size([3000, 1]) torch.Size([1000, 1])\n",
      "(233, 25) (233, 1)\n",
      "torch.Size([200, 3]) torch.Size([33, 3]) torch.Size([200, 1]) torch.Size([33, 1])\n"
     ]
    },
    {
     "name": "stderr",
     "output_type": "stream",
     "text": [
      "| train_loss: 2.79e-02 | test_loss: 4.15e-02 | reg: 3.24e+01 | : 100%|█| 20/20 [00:04<00:00,  4.38it"
     ]
    },
    {
     "name": "stdout",
     "output_type": "stream",
     "text": [
      "saving model version 0.1\n"
     ]
    },
    {
     "name": "stderr",
     "output_type": "stream",
     "text": [
      "\n"
     ]
    }
   ],
   "source": [
    "import sys\n",
    "sys.path.append(\"/root/autodl-tmp/pykan-master\")\n",
    "\n",
    "from kan import *\n",
    "\n",
    "device = torch.device('cpu')\n",
    "print(device)\n",
    "\n",
    "# create a KAN: 2D inputs, 1D output, and 5 hidden neurons. cubic spline (k=3), 5 grid intervals (grid=5).\n",
    "# model = KAN(width=[17,8, [4,2],1], grid=10, k=3, seed=1, device=device)\n",
    "model = KAN(width=[3,10, 10,1], grid=10, k=3, seed=1, device=device)\n",
    "f = lambda x: torch.exp((torch.sin(torch.pi*(x[:,[0]]**2+x[:,[1]]**2))+torch.sin(torch.pi*(x[:,[2]]**2+x[:,[3]]**2)))/2)\n",
    "dataset = create_dataset(f, n_var=4, train_num=3000, device=device)\n",
    "\n",
    "np_data = np.load('np_data.npy', allow_pickle=True).astype(np.float32)\n",
    "np_label = np.load('np_label.npy').astype(np.float32)\n",
    "np_label = np.expand_dims(np_label, axis=1)\n",
    "np_label_1 = np.load('np_label_1.npy').astype(np.float32)\n",
    "np_label_1 = np.expand_dims(np_label_1, axis=1)\n",
    "\n",
    "print(dataset['train_input'].shape, dataset['test_input'].shape, dataset['train_label'].shape, dataset['test_label'].shape)\n",
    "# dataset['train_input'] = torch.from_numpy(np_data[:200,:])\n",
    "# dataset['test_input'] = torch.from_numpy(np_data[200:,:])\n",
    "\n",
    "# dataset['train_input'] = torch.from_numpy(np_data[:200,[0,1,3,5,6,7,10,11,12,13,14,17,18,19,22,23,24]]) # 17\n",
    "# dataset['test_input'] = torch.from_numpy(np_data[200:,[0,1,3,5,6,7,10,11,12,13,14,17,18,19,22,23,24]])\n",
    "\n",
    "# dataset['train_input'] = torch.from_numpy(np_data[:200,[0,1,3,4,5,7,10,11,12,13,14,17,18,19,22,23,24]]) # 17\n",
    "# dataset['test_input'] = torch.from_numpy(np_data[200:,[0,1,3,4,5,7,10,11,12,13,14,17,18,19,22,23,24]])\n",
    "\n",
    "# dataset['train_input'] = torch.from_numpy(np_data[:200,[5,7,10,14,17,19,22,24]]) # 8\n",
    "# dataset['test_input'] = torch.from_numpy(np_data[200:,[5,7,10,14,17,19,22,24]])\n",
    "\n",
    "# dataset['train_input'] = torch.from_numpy(np_data[:200,[4,7,10,14,17,19,22,24]]) # 8\n",
    "# dataset['test_input'] = torch.from_numpy(np_data[200:,[4,7,10,14,17,19,22,24]])\n",
    "\n",
    "dataset['train_input'] = torch.from_numpy(np_data[:200,[4,10,17]]) # 3\n",
    "dataset['test_input'] = torch.from_numpy(np_data[200:,[4,10,17]])\n",
    "\n",
    "dataset['train_label'] = torch.from_numpy(np_label[:200,:])\n",
    "dataset['test_label'] = torch.from_numpy(np_label[200:,:])\n",
    "\n",
    "print(np_data.shape, np_label.shape)\n",
    "\n",
    "print(dataset['train_input'].shape, dataset['test_input'].shape, dataset['train_label'].shape, dataset['test_label'].shape)\n",
    "# # train the model\n",
    "# model.fit(dataset, opt=\"LBFGS\", steps=50, lamb=0.002, lamb_entropy=2.);\n",
    "model.fit(dataset, opt=\"LBFGS\", steps=20);"
   ]
  },
  {
   "cell_type": "code",
   "execution_count": 2,
   "id": "77a6ca4b-418f-4275-bc71-924b7d06e337",
   "metadata": {},
   "outputs": [
    {
     "name": "stdout",
     "output_type": "stream",
     "text": [
      "saving model version 0.2\n",
      "saving model version 0.3\n"
     ]
    },
    {
     "name": "stderr",
     "output_type": "stream",
     "text": [
      "| train_loss: 2.58e-02 | test_loss: 4.71e-02 | reg: 2.69e+01 | : 100%|█| 10/10 [00:02<00:00,  4.33it"
     ]
    },
    {
     "name": "stdout",
     "output_type": "stream",
     "text": [
      "saving model version 0.4\n"
     ]
    },
    {
     "name": "stderr",
     "output_type": "stream",
     "text": [
      "\n"
     ]
    }
   ],
   "source": [
    "model = model.prune(edge_th=1e-2)\n",
    "model = model.refine(20)\n",
    "# model.fit(dataset, opt=\"LBFGS\", steps=50, lamb=0.002, lamb_entropy=2.);\n",
    "model.fit(dataset, opt=\"LBFGS\", steps=10);"
   ]
  },
  {
   "cell_type": "code",
   "execution_count": 3,
   "id": "46e91426-3faa-4dec-8463-236d4e4a7845",
   "metadata": {},
   "outputs": [
    {
     "name": "stdout",
     "output_type": "stream",
     "text": [
      "saving model version 0.5\n",
      "saving model version 0.6\n"
     ]
    },
    {
     "name": "stderr",
     "output_type": "stream",
     "text": [
      "| train_loss: 1.45e-02 | test_loss: 6.32e-02 | reg: 2.72e+01 | : 100%|█| 100/100 [00:25<00:00,  3.97"
     ]
    },
    {
     "name": "stdout",
     "output_type": "stream",
     "text": [
      "saving model version 0.7\n"
     ]
    },
    {
     "name": "stderr",
     "output_type": "stream",
     "text": [
      "\n"
     ]
    }
   ],
   "source": [
    "\n",
    "model = model.prune(edge_th=1e-2)\n",
    "model = model.refine(30)\n",
    "# model.fit(dataset, opt=\"LBFGS\", steps=50, lamb=0.002, lamb_entropy=2.);\n",
    "model.fit(dataset, opt=\"LBFGS\", steps=100);"
   ]
  },
  {
   "cell_type": "code",
   "execution_count": 4,
   "id": "f0359031-e884-4b10-b88e-f210b00233e7",
   "metadata": {
    "scrolled": true
   },
   "outputs": [
    {
     "name": "stdout",
     "output_type": "stream",
     "text": [
      "saving model version 0.8\n"
     ]
    },
    {
     "name": "stderr",
     "output_type": "stream",
     "text": [
      "| train_loss: 1.77e-02 | test_loss: 5.28e-02 | reg: 0.00e+00 | :  56%|▌| 56/100 [00:11<00:08,  4.94i\n"
     ]
    },
    {
     "ename": "KeyboardInterrupt",
     "evalue": "",
     "output_type": "error",
     "traceback": [
      "\u001b[0;31m---------------------------------------------------------------------------\u001b[0m",
      "\u001b[0;31mKeyboardInterrupt\u001b[0m                         Traceback (most recent call last)",
      "Cell \u001b[0;32mIn[4], line 4\u001b[0m\n\u001b[1;32m      2\u001b[0m model \u001b[38;5;241m=\u001b[39m model\u001b[38;5;241m.\u001b[39mrefine(\u001b[38;5;241m50\u001b[39m)\n\u001b[1;32m      3\u001b[0m \u001b[38;5;66;03m# model.fit(dataset, opt=\"LBFGS\", steps=50, lamb=0.002, lamb_entropy=2.);\u001b[39;00m\n\u001b[0;32m----> 4\u001b[0m \u001b[43mmodel\u001b[49m\u001b[38;5;241;43m.\u001b[39;49m\u001b[43mfit\u001b[49m\u001b[43m(\u001b[49m\u001b[43mdataset\u001b[49m\u001b[43m,\u001b[49m\u001b[43m \u001b[49m\u001b[43mopt\u001b[49m\u001b[38;5;241;43m=\u001b[39;49m\u001b[38;5;124;43m\"\u001b[39;49m\u001b[38;5;124;43mLBFGS\u001b[39;49m\u001b[38;5;124;43m\"\u001b[39;49m\u001b[43m,\u001b[49m\u001b[43m \u001b[49m\u001b[43msteps\u001b[49m\u001b[38;5;241;43m=\u001b[39;49m\u001b[38;5;241;43m100\u001b[39;49m\u001b[43m)\u001b[49m;\n",
      "File \u001b[0;32m~/autodl-tmp/pykan-master/kan/MultKAN.py:1533\u001b[0m, in \u001b[0;36mMultKAN.fit\u001b[0;34m(self, dataset, opt, steps, log, lamb, lamb_l1, lamb_entropy, lamb_coef, lamb_coefdiff, update_grid, grid_update_num, loss_fn, lr, start_grid_update_step, stop_grid_update_step, batch, metrics, save_fig, in_vars, out_vars, beta, save_fig_freq, img_folder, singularity_avoiding, y_th, reg_metric, display_metrics)\u001b[0m\n\u001b[1;32m   1530\u001b[0m     \u001b[38;5;28mself\u001b[39m\u001b[38;5;241m.\u001b[39mupdate_grid(dataset[\u001b[38;5;124m'\u001b[39m\u001b[38;5;124mtrain_input\u001b[39m\u001b[38;5;124m'\u001b[39m][train_id])\n\u001b[1;32m   1532\u001b[0m \u001b[38;5;28;01mif\u001b[39;00m opt \u001b[38;5;241m==\u001b[39m \u001b[38;5;124m\"\u001b[39m\u001b[38;5;124mLBFGS\u001b[39m\u001b[38;5;124m\"\u001b[39m:\n\u001b[0;32m-> 1533\u001b[0m     \u001b[43moptimizer\u001b[49m\u001b[38;5;241;43m.\u001b[39;49m\u001b[43mstep\u001b[49m\u001b[43m(\u001b[49m\u001b[43mclosure\u001b[49m\u001b[43m)\u001b[49m\n\u001b[1;32m   1535\u001b[0m \u001b[38;5;28;01mif\u001b[39;00m opt \u001b[38;5;241m==\u001b[39m \u001b[38;5;124m\"\u001b[39m\u001b[38;5;124mAdam\u001b[39m\u001b[38;5;124m\"\u001b[39m:\n\u001b[1;32m   1536\u001b[0m     pred \u001b[38;5;241m=\u001b[39m \u001b[38;5;28mself\u001b[39m\u001b[38;5;241m.\u001b[39mforward(dataset[\u001b[38;5;124m'\u001b[39m\u001b[38;5;124mtrain_input\u001b[39m\u001b[38;5;124m'\u001b[39m][train_id], singularity_avoiding\u001b[38;5;241m=\u001b[39msingularity_avoiding, y_th\u001b[38;5;241m=\u001b[39my_th)\n",
      "File \u001b[0;32m~/miniconda3/lib/python3.12/site-packages/torch/optim/optimizer.py:391\u001b[0m, in \u001b[0;36mOptimizer.profile_hook_step.<locals>.wrapper\u001b[0;34m(*args, **kwargs)\u001b[0m\n\u001b[1;32m    386\u001b[0m         \u001b[38;5;28;01melse\u001b[39;00m:\n\u001b[1;32m    387\u001b[0m             \u001b[38;5;28;01mraise\u001b[39;00m \u001b[38;5;167;01mRuntimeError\u001b[39;00m(\n\u001b[1;32m    388\u001b[0m                 \u001b[38;5;124mf\u001b[39m\u001b[38;5;124m\"\u001b[39m\u001b[38;5;132;01m{\u001b[39;00mfunc\u001b[38;5;132;01m}\u001b[39;00m\u001b[38;5;124m must return None or a tuple of (new_args, new_kwargs), but got \u001b[39m\u001b[38;5;132;01m{\u001b[39;00mresult\u001b[38;5;132;01m}\u001b[39;00m\u001b[38;5;124m.\u001b[39m\u001b[38;5;124m\"\u001b[39m\n\u001b[1;32m    389\u001b[0m             )\n\u001b[0;32m--> 391\u001b[0m out \u001b[38;5;241m=\u001b[39m \u001b[43mfunc\u001b[49m\u001b[43m(\u001b[49m\u001b[38;5;241;43m*\u001b[39;49m\u001b[43margs\u001b[49m\u001b[43m,\u001b[49m\u001b[43m \u001b[49m\u001b[38;5;241;43m*\u001b[39;49m\u001b[38;5;241;43m*\u001b[39;49m\u001b[43mkwargs\u001b[49m\u001b[43m)\u001b[49m\n\u001b[1;32m    392\u001b[0m \u001b[38;5;28mself\u001b[39m\u001b[38;5;241m.\u001b[39m_optimizer_step_code()\n\u001b[1;32m    394\u001b[0m \u001b[38;5;66;03m# call optimizer step post hooks\u001b[39;00m\n",
      "File \u001b[0;32m~/miniconda3/lib/python3.12/site-packages/torch/utils/_contextlib.py:115\u001b[0m, in \u001b[0;36mcontext_decorator.<locals>.decorate_context\u001b[0;34m(*args, **kwargs)\u001b[0m\n\u001b[1;32m    112\u001b[0m \u001b[38;5;129m@functools\u001b[39m\u001b[38;5;241m.\u001b[39mwraps(func)\n\u001b[1;32m    113\u001b[0m \u001b[38;5;28;01mdef\u001b[39;00m \u001b[38;5;21mdecorate_context\u001b[39m(\u001b[38;5;241m*\u001b[39margs, \u001b[38;5;241m*\u001b[39m\u001b[38;5;241m*\u001b[39mkwargs):\n\u001b[1;32m    114\u001b[0m     \u001b[38;5;28;01mwith\u001b[39;00m ctx_factory():\n\u001b[0;32m--> 115\u001b[0m         \u001b[38;5;28;01mreturn\u001b[39;00m \u001b[43mfunc\u001b[49m\u001b[43m(\u001b[49m\u001b[38;5;241;43m*\u001b[39;49m\u001b[43margs\u001b[49m\u001b[43m,\u001b[49m\u001b[43m \u001b[49m\u001b[38;5;241;43m*\u001b[39;49m\u001b[38;5;241;43m*\u001b[39;49m\u001b[43mkwargs\u001b[49m\u001b[43m)\u001b[49m\n",
      "File \u001b[0;32m~/autodl-tmp/pykan-master/kan/LBFGS.py:443\u001b[0m, in \u001b[0;36mLBFGS.step\u001b[0;34m(self, closure)\u001b[0m\n\u001b[1;32m    441\u001b[0m     \u001b[38;5;28;01mdef\u001b[39;00m \u001b[38;5;21mobj_func\u001b[39m(x, t, d):\n\u001b[1;32m    442\u001b[0m         \u001b[38;5;28;01mreturn\u001b[39;00m \u001b[38;5;28mself\u001b[39m\u001b[38;5;241m.\u001b[39m_directional_evaluate(closure, x, t, d)\n\u001b[0;32m--> 443\u001b[0m     loss, flat_grad, t, ls_func_evals \u001b[38;5;241m=\u001b[39m \u001b[43m_strong_wolfe\u001b[49m\u001b[43m(\u001b[49m\n\u001b[1;32m    444\u001b[0m \u001b[43m        \u001b[49m\u001b[43mobj_func\u001b[49m\u001b[43m,\u001b[49m\u001b[43m \u001b[49m\u001b[43mx_init\u001b[49m\u001b[43m,\u001b[49m\u001b[43m \u001b[49m\u001b[43mt\u001b[49m\u001b[43m,\u001b[49m\u001b[43m \u001b[49m\u001b[43md\u001b[49m\u001b[43m,\u001b[49m\u001b[43m \u001b[49m\u001b[43mloss\u001b[49m\u001b[43m,\u001b[49m\u001b[43m \u001b[49m\u001b[43mflat_grad\u001b[49m\u001b[43m,\u001b[49m\u001b[43m \u001b[49m\u001b[43mgtd\u001b[49m\u001b[43m)\u001b[49m\n\u001b[1;32m    445\u001b[0m \u001b[38;5;28mself\u001b[39m\u001b[38;5;241m.\u001b[39m_add_grad(t, d)\n\u001b[1;32m    446\u001b[0m opt_cond \u001b[38;5;241m=\u001b[39m flat_grad\u001b[38;5;241m.\u001b[39mabs()\u001b[38;5;241m.\u001b[39mmax() \u001b[38;5;241m<\u001b[39m\u001b[38;5;241m=\u001b[39m tolerance_grad\n",
      "File \u001b[0;32m~/autodl-tmp/pykan-master/kan/LBFGS.py:150\u001b[0m, in \u001b[0;36m_strong_wolfe\u001b[0;34m(obj_func, x, t, d, f, g, gtd, c1, c2, tolerance_change, max_ls)\u001b[0m\n\u001b[1;32m    147\u001b[0m     insuf_progress \u001b[38;5;241m=\u001b[39m \u001b[38;5;28;01mFalse\u001b[39;00m\n\u001b[1;32m    149\u001b[0m \u001b[38;5;66;03m# Evaluate new point\u001b[39;00m\n\u001b[0;32m--> 150\u001b[0m f_new, g_new \u001b[38;5;241m=\u001b[39m \u001b[43mobj_func\u001b[49m\u001b[43m(\u001b[49m\u001b[43mx\u001b[49m\u001b[43m,\u001b[49m\u001b[43m \u001b[49m\u001b[43mt\u001b[49m\u001b[43m,\u001b[49m\u001b[43m \u001b[49m\u001b[43md\u001b[49m\u001b[43m)\u001b[49m\n\u001b[1;32m    151\u001b[0m ls_func_evals \u001b[38;5;241m+\u001b[39m\u001b[38;5;241m=\u001b[39m \u001b[38;5;241m1\u001b[39m\n\u001b[1;32m    152\u001b[0m gtd_new \u001b[38;5;241m=\u001b[39m g_new\u001b[38;5;241m.\u001b[39mdot(d)\n",
      "File \u001b[0;32m~/autodl-tmp/pykan-master/kan/LBFGS.py:442\u001b[0m, in \u001b[0;36mLBFGS.step.<locals>.obj_func\u001b[0;34m(x, t, d)\u001b[0m\n\u001b[1;32m    441\u001b[0m \u001b[38;5;28;01mdef\u001b[39;00m \u001b[38;5;21mobj_func\u001b[39m(x, t, d):\n\u001b[0;32m--> 442\u001b[0m     \u001b[38;5;28;01mreturn\u001b[39;00m \u001b[38;5;28;43mself\u001b[39;49m\u001b[38;5;241;43m.\u001b[39;49m\u001b[43m_directional_evaluate\u001b[49m\u001b[43m(\u001b[49m\u001b[43mclosure\u001b[49m\u001b[43m,\u001b[49m\u001b[43m \u001b[49m\u001b[43mx\u001b[49m\u001b[43m,\u001b[49m\u001b[43m \u001b[49m\u001b[43mt\u001b[49m\u001b[43m,\u001b[49m\u001b[43m \u001b[49m\u001b[43md\u001b[49m\u001b[43m)\u001b[49m\n",
      "File \u001b[0;32m~/autodl-tmp/pykan-master/kan/LBFGS.py:291\u001b[0m, in \u001b[0;36mLBFGS._directional_evaluate\u001b[0;34m(self, closure, x, t, d)\u001b[0m\n\u001b[1;32m    289\u001b[0m \u001b[38;5;28;01mdef\u001b[39;00m \u001b[38;5;21m_directional_evaluate\u001b[39m(\u001b[38;5;28mself\u001b[39m, closure, x, t, d):\n\u001b[1;32m    290\u001b[0m     \u001b[38;5;28mself\u001b[39m\u001b[38;5;241m.\u001b[39m_add_grad(t, d)\n\u001b[0;32m--> 291\u001b[0m     loss \u001b[38;5;241m=\u001b[39m \u001b[38;5;28mfloat\u001b[39m(\u001b[43mclosure\u001b[49m\u001b[43m(\u001b[49m\u001b[43m)\u001b[49m)\n\u001b[1;32m    292\u001b[0m     flat_grad \u001b[38;5;241m=\u001b[39m \u001b[38;5;28mself\u001b[39m\u001b[38;5;241m.\u001b[39m_gather_flat_grad()\n\u001b[1;32m    293\u001b[0m     \u001b[38;5;28mself\u001b[39m\u001b[38;5;241m.\u001b[39m_set_param(x)\n",
      "File \u001b[0;32m~/miniconda3/lib/python3.12/site-packages/torch/utils/_contextlib.py:115\u001b[0m, in \u001b[0;36mcontext_decorator.<locals>.decorate_context\u001b[0;34m(*args, **kwargs)\u001b[0m\n\u001b[1;32m    112\u001b[0m \u001b[38;5;129m@functools\u001b[39m\u001b[38;5;241m.\u001b[39mwraps(func)\n\u001b[1;32m    113\u001b[0m \u001b[38;5;28;01mdef\u001b[39;00m \u001b[38;5;21mdecorate_context\u001b[39m(\u001b[38;5;241m*\u001b[39margs, \u001b[38;5;241m*\u001b[39m\u001b[38;5;241m*\u001b[39mkwargs):\n\u001b[1;32m    114\u001b[0m     \u001b[38;5;28;01mwith\u001b[39;00m ctx_factory():\n\u001b[0;32m--> 115\u001b[0m         \u001b[38;5;28;01mreturn\u001b[39;00m \u001b[43mfunc\u001b[49m\u001b[43m(\u001b[49m\u001b[38;5;241;43m*\u001b[39;49m\u001b[43margs\u001b[49m\u001b[43m,\u001b[49m\u001b[43m \u001b[49m\u001b[38;5;241;43m*\u001b[39;49m\u001b[38;5;241;43m*\u001b[39;49m\u001b[43mkwargs\u001b[49m\u001b[43m)\u001b[49m\n",
      "File \u001b[0;32m~/autodl-tmp/pykan-master/kan/MultKAN.py:1514\u001b[0m, in \u001b[0;36mMultKAN.fit.<locals>.closure\u001b[0;34m()\u001b[0m\n\u001b[1;32m   1512\u001b[0m     reg_ \u001b[38;5;241m=\u001b[39m torch\u001b[38;5;241m.\u001b[39mtensor(\u001b[38;5;241m0.\u001b[39m)\n\u001b[1;32m   1513\u001b[0m objective \u001b[38;5;241m=\u001b[39m train_loss \u001b[38;5;241m+\u001b[39m lamb \u001b[38;5;241m*\u001b[39m reg_\n\u001b[0;32m-> 1514\u001b[0m \u001b[43mobjective\u001b[49m\u001b[38;5;241;43m.\u001b[39;49m\u001b[43mbackward\u001b[49m\u001b[43m(\u001b[49m\u001b[43m)\u001b[49m\n\u001b[1;32m   1515\u001b[0m \u001b[38;5;28;01mreturn\u001b[39;00m objective\n",
      "File \u001b[0;32m~/miniconda3/lib/python3.12/site-packages/torch/_tensor.py:525\u001b[0m, in \u001b[0;36mTensor.backward\u001b[0;34m(self, gradient, retain_graph, create_graph, inputs)\u001b[0m\n\u001b[1;32m    515\u001b[0m \u001b[38;5;28;01mif\u001b[39;00m has_torch_function_unary(\u001b[38;5;28mself\u001b[39m):\n\u001b[1;32m    516\u001b[0m     \u001b[38;5;28;01mreturn\u001b[39;00m handle_torch_function(\n\u001b[1;32m    517\u001b[0m         Tensor\u001b[38;5;241m.\u001b[39mbackward,\n\u001b[1;32m    518\u001b[0m         (\u001b[38;5;28mself\u001b[39m,),\n\u001b[0;32m   (...)\u001b[0m\n\u001b[1;32m    523\u001b[0m         inputs\u001b[38;5;241m=\u001b[39minputs,\n\u001b[1;32m    524\u001b[0m     )\n\u001b[0;32m--> 525\u001b[0m \u001b[43mtorch\u001b[49m\u001b[38;5;241;43m.\u001b[39;49m\u001b[43mautograd\u001b[49m\u001b[38;5;241;43m.\u001b[39;49m\u001b[43mbackward\u001b[49m\u001b[43m(\u001b[49m\n\u001b[1;32m    526\u001b[0m \u001b[43m    \u001b[49m\u001b[38;5;28;43mself\u001b[39;49m\u001b[43m,\u001b[49m\u001b[43m \u001b[49m\u001b[43mgradient\u001b[49m\u001b[43m,\u001b[49m\u001b[43m \u001b[49m\u001b[43mretain_graph\u001b[49m\u001b[43m,\u001b[49m\u001b[43m \u001b[49m\u001b[43mcreate_graph\u001b[49m\u001b[43m,\u001b[49m\u001b[43m \u001b[49m\u001b[43minputs\u001b[49m\u001b[38;5;241;43m=\u001b[39;49m\u001b[43minputs\u001b[49m\n\u001b[1;32m    527\u001b[0m \u001b[43m\u001b[49m\u001b[43m)\u001b[49m\n",
      "File \u001b[0;32m~/miniconda3/lib/python3.12/site-packages/torch/autograd/__init__.py:267\u001b[0m, in \u001b[0;36mbackward\u001b[0;34m(tensors, grad_tensors, retain_graph, create_graph, grad_variables, inputs)\u001b[0m\n\u001b[1;32m    262\u001b[0m     retain_graph \u001b[38;5;241m=\u001b[39m create_graph\n\u001b[1;32m    264\u001b[0m \u001b[38;5;66;03m# The reason we repeat the same comment below is that\u001b[39;00m\n\u001b[1;32m    265\u001b[0m \u001b[38;5;66;03m# some Python versions print out the first line of a multi-line function\u001b[39;00m\n\u001b[1;32m    266\u001b[0m \u001b[38;5;66;03m# calls in the traceback and some print out the last line\u001b[39;00m\n\u001b[0;32m--> 267\u001b[0m \u001b[43m_engine_run_backward\u001b[49m\u001b[43m(\u001b[49m\n\u001b[1;32m    268\u001b[0m \u001b[43m    \u001b[49m\u001b[43mtensors\u001b[49m\u001b[43m,\u001b[49m\n\u001b[1;32m    269\u001b[0m \u001b[43m    \u001b[49m\u001b[43mgrad_tensors_\u001b[49m\u001b[43m,\u001b[49m\n\u001b[1;32m    270\u001b[0m \u001b[43m    \u001b[49m\u001b[43mretain_graph\u001b[49m\u001b[43m,\u001b[49m\n\u001b[1;32m    271\u001b[0m \u001b[43m    \u001b[49m\u001b[43mcreate_graph\u001b[49m\u001b[43m,\u001b[49m\n\u001b[1;32m    272\u001b[0m \u001b[43m    \u001b[49m\u001b[43minputs\u001b[49m\u001b[43m,\u001b[49m\n\u001b[1;32m    273\u001b[0m \u001b[43m    \u001b[49m\u001b[43mallow_unreachable\u001b[49m\u001b[38;5;241;43m=\u001b[39;49m\u001b[38;5;28;43;01mTrue\u001b[39;49;00m\u001b[43m,\u001b[49m\n\u001b[1;32m    274\u001b[0m \u001b[43m    \u001b[49m\u001b[43maccumulate_grad\u001b[49m\u001b[38;5;241;43m=\u001b[39;49m\u001b[38;5;28;43;01mTrue\u001b[39;49;00m\u001b[43m,\u001b[49m\n\u001b[1;32m    275\u001b[0m \u001b[43m\u001b[49m\u001b[43m)\u001b[49m\n",
      "File \u001b[0;32m~/miniconda3/lib/python3.12/site-packages/torch/autograd/graph.py:744\u001b[0m, in \u001b[0;36m_engine_run_backward\u001b[0;34m(t_outputs, *args, **kwargs)\u001b[0m\n\u001b[1;32m    742\u001b[0m     unregister_hooks \u001b[38;5;241m=\u001b[39m _register_logging_hooks_on_whole_graph(t_outputs)\n\u001b[1;32m    743\u001b[0m \u001b[38;5;28;01mtry\u001b[39;00m:\n\u001b[0;32m--> 744\u001b[0m     \u001b[38;5;28;01mreturn\u001b[39;00m \u001b[43mVariable\u001b[49m\u001b[38;5;241;43m.\u001b[39;49m\u001b[43m_execution_engine\u001b[49m\u001b[38;5;241;43m.\u001b[39;49m\u001b[43mrun_backward\u001b[49m\u001b[43m(\u001b[49m\u001b[43m  \u001b[49m\u001b[38;5;66;43;03m# Calls into the C++ engine to run the backward pass\u001b[39;49;00m\n\u001b[1;32m    745\u001b[0m \u001b[43m        \u001b[49m\u001b[43mt_outputs\u001b[49m\u001b[43m,\u001b[49m\u001b[43m \u001b[49m\u001b[38;5;241;43m*\u001b[39;49m\u001b[43margs\u001b[49m\u001b[43m,\u001b[49m\u001b[43m \u001b[49m\u001b[38;5;241;43m*\u001b[39;49m\u001b[38;5;241;43m*\u001b[39;49m\u001b[43mkwargs\u001b[49m\n\u001b[1;32m    746\u001b[0m \u001b[43m    \u001b[49m\u001b[43m)\u001b[49m  \u001b[38;5;66;03m# Calls into the C++ engine to run the backward pass\u001b[39;00m\n\u001b[1;32m    747\u001b[0m \u001b[38;5;28;01mfinally\u001b[39;00m:\n\u001b[1;32m    748\u001b[0m     \u001b[38;5;28;01mif\u001b[39;00m attach_logging_hooks:\n",
      "\u001b[0;31mKeyboardInterrupt\u001b[0m: "
     ]
    }
   ],
   "source": [
    "#model = model.prune(edge_th=1e-2)\n",
    "model = model.refine(50)\n",
    "# model.fit(dataset, opt=\"LBFGS\", steps=50, lamb=0.002, lamb_entropy=2.);\n",
    "model.fit(dataset, opt=\"LBFGS\", steps=100);"
   ]
  },
  {
   "cell_type": "code",
   "execution_count": 4,
   "id": "28b1e07c-f3c5-4439-a262-ade9c4ffbbc6",
   "metadata": {
    "scrolled": true
   },
   "outputs": [
    {
     "name": "stdout",
     "output_type": "stream",
     "text": [
      "fixing (0,0,0) with x, r2=1.0000004768371582, c=1\n",
      "fixing (0,0,1) with x, r2=1.0000004768371582, c=1\n",
      "fixing (0,0,2) with x, r2=1.0000004768371582, c=1\n",
      "fixing (0,0,3) with x, r2=0.9999322295188904, c=1\n",
      "fixing (0,0,4) with x, r2=1.0000004768371582, c=1\n",
      "fixing (0,0,5) with x, r2=1.0000004768371582, c=1\n",
      "fixing (0,1,0) with x, r2=0.9999261498451233, c=1\n",
      "fixing (0,1,1) with x, r2=0.9999582171440125, c=1\n",
      "fixing (0,1,2) with x, r2=0.9999514818191528, c=1\n",
      "fixing (0,1,3) with x, r2=0.9994530081748962, c=1\n",
      "fixing (0,1,4) with x, r2=0.9999036192893982, c=1\n",
      "fixing (0,1,5) with x, r2=0.9999512434005737, c=1\n",
      "fixing (0,2,0) with x, r2=0.999994158744812, c=1\n",
      "fixing (0,2,1) with x, r2=0.9999921321868896, c=1\n",
      "fixing (0,2,2) with x, r2=0.9999967813491821, c=1\n",
      "fixing (0,2,3) with x, r2=0.9999712109565735, c=1\n",
      "fixing (0,2,4) with x, r2=0.9999761581420898, c=1\n",
      "fixing (0,2,5) with x, r2=0.9997536540031433, c=1\n",
      "fixing (1,0,0) with 0\n",
      "fixing (1,0,1) with x, r2=1.0000003576278687, c=1\n",
      "fixing (1,0,2) with x, r2=1.000000238418579, c=1\n",
      "fixing (1,0,3) with x, r2=1.0000004768371582, c=1\n",
      "fixing (1,0,4) with x, r2=1.0000004768371582, c=1\n",
      "fixing (1,0,5) with x, r2=1.000000238418579, c=1\n",
      "fixing (1,0,6) with x, r2=1.0000004768371582, c=1\n",
      "fixing (1,0,7) with 0\n",
      "fixing (1,0,8) with x, r2=1.000000238418579, c=1\n",
      "fixing (1,0,9) with x, r2=1.0, c=1\n",
      "fixing (1,1,0) with x, r2=1.0000003576278687, c=1\n",
      "fixing (1,1,1) with x, r2=1.000000238418579, c=1\n",
      "fixing (1,1,2) with x, r2=1.0000003576278687, c=1\n",
      "fixing (1,1,3) with 0\n",
      "fixing (1,1,4) with x, r2=1.0000003576278687, c=1\n",
      "fixing (1,1,5) with x, r2=1.0000003576278687, c=1\n",
      "fixing (1,1,6) with 0\n",
      "fixing (1,1,7) with x, r2=1.0000003576278687, c=1\n",
      "fixing (1,1,8) with x, r2=1.0000003576278687, c=1\n",
      "fixing (1,1,9) with x, r2=0.9999650716781616, c=1\n",
      "fixing (1,2,0) with x, r2=1.0000004768371582, c=1\n",
      "fixing (1,2,1) with x, r2=1.0000003576278687, c=1\n",
      "fixing (1,2,2) with x, r2=1.0000003576278687, c=1\n",
      "fixing (1,2,3) with x, r2=1.0000005960464478, c=1\n",
      "fixing (1,2,4) with 0\n",
      "fixing (1,2,5) with x, r2=0.9999998807907104, c=1\n",
      "fixing (1,2,6) with x, r2=1.0000005960464478, c=1\n",
      "fixing (1,2,7) with x, r2=1.0000004768371582, c=1\n",
      "fixing (1,2,8) with x, r2=1.0000004768371582, c=1\n",
      "fixing (1,2,9) with x, r2=1.0000001192092896, c=1\n",
      "fixing (1,3,0) with 0\n",
      "fixing (1,3,1) with x, r2=0.9996898770332336, c=1\n",
      "fixing (1,3,2) with x, r2=0.97196364402771, c=1\n",
      "fixing (1,3,3) with 0\n",
      "fixing (1,3,4) with 0\n",
      "fixing (1,3,5) with 0\n",
      "fixing (1,3,6) with 0\n",
      "fixing (1,3,7) with 0\n",
      "fixing (1,3,8) with 0\n",
      "fixing (1,3,9) with x, r2=0.9793351292610168, c=1\n",
      "fixing (1,4,0) with x, r2=1.0000003576278687, c=1\n",
      "fixing (1,4,1) with x, r2=0.9999985694885254, c=1\n",
      "fixing (1,4,2) with x, r2=1.0000003576278687, c=1\n",
      "fixing (1,4,3) with x, r2=1.0000004768371582, c=1\n",
      "fixing (1,4,4) with x, r2=1.0000004768371582, c=1\n",
      "fixing (1,4,5) with x, r2=1.0000004768371582, c=1\n",
      "fixing (1,4,6) with x, r2=1.0000003576278687, c=1\n",
      "fixing (1,4,7) with x, r2=1.0000004768371582, c=1\n",
      "fixing (1,4,8) with x, r2=1.0000003576278687, c=1\n",
      "fixing (1,4,9) with x, r2=1.000000238418579, c=1\n",
      "fixing (1,5,0) with x, r2=1.0000004768371582, c=1\n",
      "fixing (1,5,1) with x, r2=1.0000004768371582, c=1\n",
      "fixing (1,5,2) with x, r2=0.999999463558197, c=1\n",
      "fixing (1,5,3) with 0\n",
      "fixing (1,5,4) with x, r2=1.0000004768371582, c=1\n",
      "fixing (1,5,5) with x, r2=0.9999976754188538, c=1\n",
      "fixing (1,5,6) with x, r2=1.0000005960464478, c=1\n",
      "fixing (1,5,7) with x, r2=1.0000003576278687, c=1\n",
      "fixing (1,5,8) with x, r2=1.0000003576278687, c=1\n",
      "fixing (1,5,9) with x, r2=0.9999996423721313, c=1\n",
      "fixing (2,0,0) with x, r2=0.009048540145158768, c=1\n",
      "fixing (2,1,0) with x, r2=0.9965017437934875, c=1\n",
      "fixing (2,2,0) with x, r2=0.999932587146759, c=1\n",
      "fixing (2,3,0) with x, r2=0.006610652897506952, c=1\n",
      "fixing (2,4,0) with x, r2=0.07342265546321869, c=1\n",
      "fixing (2,5,0) with x, r2=0.007385567296296358, c=1\n",
      "fixing (2,6,0) with x, r2=0.19739986956119537, c=1\n",
      "fixing (2,7,0) with x, r2=0.012853694148361683, c=1\n",
      "fixing (2,8,0) with x, r2=0.22291629016399384, c=1\n",
      "fixing (2,9,0) with x, r2=0.9985178112983704, c=1\n",
      "saving model version 0.8\n"
     ]
    },
    {
     "data": {
      "text/latex": [
       "$\\displaystyle 0.0001 x_{1} + 0.0069 x_{2} - 0.0041 x_{3} + 0.0251$"
      ],
      "text/plain": [
       "0.0001*x_1 + 0.0069*x_2 - 0.0041*x_3 + 0.0251"
      ]
     },
     "execution_count": 4,
     "metadata": {},
     "output_type": "execute_result"
    }
   ],
   "source": [
    "lib = ['x','x^2','x^3','x^4','exp','log','sqrt','tanh','sin','tan','abs']\n",
    "model.auto_symbolic(lib=lib)\n",
    "formula = model.symbolic_formula()[0][0]\n",
    "ex_round(formula, 4)"
   ]
  },
  {
   "cell_type": "code",
   "execution_count": 5,
   "id": "8ce1f3e8-2a81-4ad5-9d5f-2450ac73377b",
   "metadata": {
    "scrolled": true
   },
   "outputs": [
    {
     "data": {
      "image/png": "[encoded data removed]",
      "text/plain": [
       "<Figure size 500x600 with 106 Axes>"
      ]
     },
     "metadata": {},
     "output_type": "display_data"
    }
   ],
   "source": [
    "\n",
    "model.plot()"
   ]
  },
  {
   "cell_type": "code",
   "execution_count": 6,
   "id": "2c04fa55-960e-43c4-9c5b-2d1477493634",
   "metadata": {},
   "outputs": [
    {
     "name": "stderr",
     "output_type": "stream",
     "text": [
      "| train_loss: 2.98e-02 | test_loss: 4.07e-02 | reg: 0.00e+00 | : 100%|█| 100/100 [00:10<00:00,  9.58"
     ]
    },
    {
     "name": "stdout",
     "output_type": "stream",
     "text": [
      "saving model version 0.9\n"
     ]
    },
    {
     "name": "stderr",
     "output_type": "stream",
     "text": [
      "\n"
     ]
    }
   ],
   "source": [
    "model.fit(dataset, opt=\"LBFGS\", steps=100);"
   ]
  },
  {
   "cell_type": "code",
   "execution_count": 7,
   "id": "8a844356-7e26-4abc-b46c-a3e990f644d5",
   "metadata": {},
   "outputs": [
    {
     "name": "stdout",
     "output_type": "stream",
     "text": [
      "-3.5e-5*x_1 + 0.006724*x_2 - 0.000829*x_3 + 0.041314\n"
     ]
    },
    {
     "data": {
      "text/latex": [
       "$\\displaystyle - 3.5 \\cdot 10^{-5} x_{1} + 0.006724 x_{2} - 0.000829 x_{3} + 0.041314$"
      ],
      "text/plain": [
       "-3.5e-5*x_1 + 0.006724*x_2 - 0.000829*x_3 + 0.041314"
      ]
     },
     "execution_count": 7,
     "metadata": {},
     "output_type": "execute_result"
    }
   ],
   "source": [
    "formula = model.symbolic_formula()[0][0]\n",
    "print(ex_round(formula, 6))\n",
    "ex_round(formula, 6)"
   ]
  },
  {
   "cell_type": "code",
   "execution_count": null,
   "id": "26fc23b6-7741-4ce2-b726-d585612e7718",
   "metadata": {},
   "outputs": [],
   "source": [
    "0.0065185404*x_1 - 0.0015733551*x_2 + 0.0023067647*x_3 - 0.0002042616*x_5 + 0.0093320001*x_6 - 0.0015581805*x_7 + 0.0099164573*x_8 + 0.001312092*(0.7166879818 - x_4)**2 + 0.0022884607*(0.7406031193 - x_4)**2 + 0.0009999082*(-0.819869655*x_4 - 1)**2 + 46.6913477541*(0.0039577492*x_1 - 0.0155221708*x_2 - 0.0036076508*x_3 + 0.0040898939*x_5 + 0.0018537795*x_6 - 0.0031114135*x_7 - 0.0028412879*x_8 + 0.2272191467 - exp(-0.2109505087*x_4))**2 + 0.5937337504*(0.0039577492*x_1 - 0.0155221708*x_2 - 0.0036076508*x_3 + 0.0040898939*x_5 + 0.0018537795*x_6 - 0.0031114135*x_7 - 0.0028412879*x_8 + 0.2272989253 - exp(-0.2109505087*x_4))**2 - 47.6681848878*(0.0039577492*x_1 - 0.0155221708*x_2 - 0.0036076508*x_3 + 0.0040898939*x_5 + 0.0018537795*x_6 - 0.0031114135*x_7 - 0.0028412879*x_8 + 0.2281913227 - exp(-0.2109505087*x_4))**2 + 0.4300457254*(0.0039577492*x_1 - 0.0155221708*x_2 - 0.0036076508*x_3 + 0.0040898939*x_5 + 0.0018537795*x_6 - 0.0031114135*x_7 - 0.0028412879*x_8 + 0.2307012479 - exp(-0.2109505087*x_4))**2 + 0.0285281814*exp(0.670906961*x_4) + 0.0060065173 - 2.12668e-5*exp(-2.2581598759*x_4) - 0.1950089176*exp(-0.2109505087*x_4)"
   ]
  },
  {
   "cell_type": "code",
   "execution_count": 22,
   "id": "6c28beb2-767e-481e-bb92-afc91a54dca1",
   "metadata": {},
   "outputs": [
    {
     "name": "stdout",
     "output_type": "stream",
     "text": [
      "torch.Size([200, 1])\n",
      "kan  MSE: tensor(0.0005, grad_fn=<MeanBackward0>)\n",
      "TKEB MSE: tensor(0.0009)\n"
     ]
    }
   ],
   "source": [
    "ex_round(model, 3)\n",
    "\n",
    "model_output = model(dataset['train_input'])\n",
    "print(model_output.shape)\n",
    "print('kan  MSE:', torch.mean((model_output - dataset['train_label'])**2))\n",
    "print('TKEB MSE:', torch.mean((torch.from_numpy(np_label_1.astype(np.float32)).cpu()[:200] - torch.abs(dataset['train_label']))**2))\n",
    "#print(torch.abs(model_output))"
   ]
  },
  {
   "cell_type": "code",
   "execution_count": 8,
   "id": "df48f4d3-977e-48fa-b349-b447fef2298b",
   "metadata": {},
   "outputs": [
    {
     "name": "stdout",
     "output_type": "stream",
     "text": [
      "[339.2024   20.49015  16.58442]\n"
     ]
    },
    {
     "data": {
      "text/plain": [
       "Text(0, 0.5, 'feature attribution score')"
      ]
     },
     "execution_count": 8,
     "metadata": {},
     "output_type": "execute_result"
    },
    {
     "data": {
      "image/png": "[encoded data removed]",
      "text/plain": [
       "<Figure size 640x480 with 1 Axes>"
      ]
     },
     "metadata": {},
     "output_type": "display_data"
    }
   ],
   "source": [
    "print(model.feature_score.cpu().detach().numpy())\n",
    "\n",
    "plt.scatter(np.arange(3)+1, model.feature_score.cpu().detach().numpy())\n",
    "plt.xlabel('rank of input features', fontsize=15)\n",
    "plt.ylabel('feature attribution score', fontsize=15)"
   ]
  },
  {
   "cell_type": "code",
   "execution_count": 146,
   "id": "33a6d5b5-c9c5-49f5-846e-d47337141d03",
   "metadata": {},
   "outputs": [
    {
     "name": "stdout",
     "output_type": "stream",
     "text": [
      "tensor([[ 0.0010],\n",
      "        [-0.0018],\n",
      "        [ 0.0097],\n",
      "        [ 0.0005],\n",
      "        [-0.0071],\n",
      "        [ 0.0014],\n",
      "        [-0.0167],\n",
      "        [-0.0006],\n",
      "        [ 0.0202],\n",
      "        [ 0.0119],\n",
      "        [ 0.0043],\n",
      "        [ 0.0081],\n",
      "        [ 0.0189],\n",
      "        [ 0.0216],\n",
      "        [ 0.0187],\n",
      "        [ 0.0080],\n",
      "        [ 0.0143],\n",
      "        [-0.0025],\n",
      "        [ 0.0230],\n",
      "        [ 0.0166],\n",
      "        [ 0.0070],\n",
      "        [-0.0019],\n",
      "        [ 0.0109],\n",
      "        [ 0.0096],\n",
      "        [ 0.0200],\n",
      "        [ 0.0046],\n",
      "        [ 0.0011],\n",
      "        [ 0.0265],\n",
      "        [ 0.0086],\n",
      "        [ 0.0133],\n",
      "        [ 0.0186],\n",
      "        [ 0.0006],\n",
      "        [ 0.0368],\n",
      "        [ 0.0049],\n",
      "        [-0.0046],\n",
      "        [ 0.0361],\n",
      "        [ 0.0106],\n",
      "        [ 0.0261],\n",
      "        [ 0.0047],\n",
      "        [ 0.0112],\n",
      "        [ 0.0319],\n",
      "        [ 0.0485],\n",
      "        [ 0.0159],\n",
      "        [ 0.0093],\n",
      "        [ 0.0257],\n",
      "        [ 0.0169],\n",
      "        [ 0.0148],\n",
      "        [ 0.0163],\n",
      "        [ 0.0413],\n",
      "        [ 0.0234],\n",
      "        [ 0.0097],\n",
      "        [ 0.0179],\n",
      "        [ 0.0369],\n",
      "        [ 0.0130],\n",
      "        [ 0.0093],\n",
      "        [ 0.0143],\n",
      "        [ 0.0456],\n",
      "        [ 0.0653],\n",
      "        [ 0.0543],\n",
      "        [ 0.0496],\n",
      "        [ 0.0535],\n",
      "        [ 0.0314],\n",
      "        [ 0.0223],\n",
      "        [ 0.0249],\n",
      "        [ 0.0249],\n",
      "        [ 0.0408],\n",
      "        [ 0.0144],\n",
      "        [ 0.0355],\n",
      "        [ 0.0291],\n",
      "        [ 0.0276],\n",
      "        [ 0.0341],\n",
      "        [ 0.0774],\n",
      "        [ 0.0255],\n",
      "        [ 0.0339],\n",
      "        [ 0.0498],\n",
      "        [ 0.0627],\n",
      "        [ 0.0303],\n",
      "        [ 0.0216],\n",
      "        [ 0.0185],\n",
      "        [ 0.0349],\n",
      "        [ 0.0309],\n",
      "        [ 0.0077],\n",
      "        [ 0.0383],\n",
      "        [ 0.0336],\n",
      "        [ 0.0953],\n",
      "        [ 0.0516],\n",
      "        [ 0.0528],\n",
      "        [ 0.0756],\n",
      "        [ 0.0683],\n",
      "        [ 0.1025],\n",
      "        [ 0.0413],\n",
      "        [ 0.0288],\n",
      "        [ 0.0369],\n",
      "        [ 0.0364],\n",
      "        [ 0.0174],\n",
      "        [ 0.0432],\n",
      "        [ 0.0625],\n",
      "        [ 0.0233],\n",
      "        [ 0.0429],\n",
      "        [ 0.0325],\n",
      "        [ 0.0554],\n",
      "        [ 0.0500],\n",
      "        [ 0.0726],\n",
      "        [ 0.1243],\n",
      "        [ 0.0395],\n",
      "        [ 0.0245],\n",
      "        [ 0.0667],\n",
      "        [ 0.0304],\n",
      "        [ 0.0353],\n",
      "        [ 0.0598],\n",
      "        [ 0.0811],\n",
      "        [ 0.0443],\n",
      "        [ 0.0331],\n",
      "        [ 0.0516],\n",
      "        [ 0.0322],\n",
      "        [ 0.0472],\n",
      "        [ 0.0571],\n",
      "        [ 0.1203],\n",
      "        [ 0.0587],\n",
      "        [ 0.0387],\n",
      "        [ 0.0488],\n",
      "        [ 0.0241],\n",
      "        [ 0.1023],\n",
      "        [ 0.0666],\n",
      "        [ 0.0575],\n",
      "        [ 0.0685],\n",
      "        [ 0.0984],\n",
      "        [ 0.0517],\n",
      "        [ 0.0559],\n",
      "        [ 0.0374],\n",
      "        [ 0.0603],\n",
      "        [ 0.0577],\n",
      "        [ 0.0287],\n",
      "        [ 0.0860],\n",
      "        [ 0.0971],\n",
      "        [ 0.1127],\n",
      "        [ 0.0710],\n",
      "        [ 0.1053],\n",
      "        [ 0.0552],\n",
      "        [ 0.0601],\n",
      "        [ 0.0402],\n",
      "        [ 0.0614],\n",
      "        [ 0.1119],\n",
      "        [ 0.0767],\n",
      "        [ 0.0496],\n",
      "        [ 0.0839],\n",
      "        [ 0.0681],\n",
      "        [ 0.0537],\n",
      "        [ 0.0261],\n",
      "        [ 0.0728],\n",
      "        [ 0.0860],\n",
      "        [ 0.1884],\n",
      "        [ 0.0769],\n",
      "        [ 0.0368],\n",
      "        [ 0.0474],\n",
      "        [ 0.0977],\n",
      "        [ 0.1116],\n",
      "        [ 0.0656],\n",
      "        [ 0.0386],\n",
      "        [ 0.0722],\n",
      "        [ 0.1747],\n",
      "        [ 0.0977],\n",
      "        [ 0.0647],\n",
      "        [ 0.0929],\n",
      "        [ 0.0722],\n",
      "        [ 0.0484],\n",
      "        [ 0.0574],\n",
      "        [ 0.0608],\n",
      "        [ 0.2099],\n",
      "        [ 0.1657],\n",
      "        [ 0.0840],\n",
      "        [ 0.1214],\n",
      "        [ 0.0918],\n",
      "        [ 0.1900],\n",
      "        [ 0.0745],\n",
      "        [ 0.0741],\n",
      "        [ 0.0607],\n",
      "        [ 0.1045],\n",
      "        [ 0.0826],\n",
      "        [ 0.0600],\n",
      "        [ 0.1238],\n",
      "        [ 0.0781],\n",
      "        [ 0.0558],\n",
      "        [ 0.1446],\n",
      "        [ 0.0990],\n",
      "        [ 0.0806],\n",
      "        [ 0.1556],\n",
      "        [ 0.1157],\n",
      "        [ 0.0520],\n",
      "        [ 0.0643],\n",
      "        [ 0.0781],\n",
      "        [ 0.1484],\n",
      "        [ 0.0835],\n",
      "        [ 0.0978],\n",
      "        [ 0.0463],\n",
      "        [ 0.1140],\n",
      "        [ 0.1367],\n",
      "        [ 0.1429],\n",
      "        [ 0.1289],\n",
      "        [ 0.0827]], grad_fn=<AddBackward0>)\n"
     ]
    }
   ],
   "source": [
    "model_output = model(dataset['train_input'])\n",
    "print(model_output)"
   ]
  },
  {
   "cell_type": "code",
   "execution_count": 57,
   "id": "1dc7e2c7-302b-41b0-8cec-7b6afc9e5348",
   "metadata": {},
   "outputs": [
    {
     "name": "stdout",
     "output_type": "stream",
     "text": [
      "saving model version 0.3\n"
     ]
    },
    {
     "name": "stderr",
     "output_type": "stream",
     "text": [
      "| train_loss: 1.31e+10 | test_loss: 1.44e+10 | reg: 5.44e+06 | : 100%|█| 50/50 [00:01<00:00, 47.79it\n"
     ]
    },
    {
     "name": "stdout",
     "output_type": "stream",
     "text": [
      "saving model version 0.4\n",
      "saving model version 0.5\n"
     ]
    },
    {
     "name": "stderr",
     "output_type": "stream",
     "text": [
      "| train_loss: nan | test_loss: nan | reg: nan | : 100%|█████████████| 50/50 [00:01<00:00, 42.57it/s]\n"
     ]
    },
    {
     "name": "stdout",
     "output_type": "stream",
     "text": [
      "saving model version 0.6\n",
      "saving model version 0.7\n"
     ]
    },
    {
     "name": "stderr",
     "output_type": "stream",
     "text": [
      "| train_loss: nan | test_loss: nan | reg: nan | : 100%|█████████████| 50/50 [00:01<00:00, 35.41it/s]\n"
     ]
    },
    {
     "name": "stdout",
     "output_type": "stream",
     "text": [
      "saving model version 0.8\n",
      "saving model version 0.9\n"
     ]
    },
    {
     "name": "stderr",
     "output_type": "stream",
     "text": [
      "| train_loss: nan | test_loss: nan | reg: nan | : 100%|█████████████| 50/50 [00:02<00:00, 21.24it/s]\n"
     ]
    },
    {
     "name": "stdout",
     "output_type": "stream",
     "text": [
      "saving model version 0.10\n"
     ]
    }
   ],
   "source": [
    "grids = [5,10,20,50]\n",
    "#grids = [5]\n",
    "\n",
    "train_rmse = []\n",
    "test_rmse = []\n",
    "\n",
    "for i in range(len(grids)):\n",
    "    #model = KAN(width=[4,2,1,1], grid=grids[i], k=3, seed=0, device=device).initialize_from_another_model(model, dataset['train_input'])\n",
    "    model = model.refine(grids[i])\n",
    "    results = model.fit(datasemodel = model.refine(10)\n",
    "    train_rmse.append(results['train_loss'][-1].item())\n",
    "    test_rmse.append(results['test_loss'][-1].item())"
   ]
  },
  {
   "cell_type": "code",
   "execution_count": null,
   "id": "1c053a64-d727-4f3d-9a25-411b1bebf1b3",
   "metadata": {},
   "outputs": [],
   "source": []
  }
 ],
 "metadata": {
  "kernelspec": {
   "display_name": "Python 3 (ipykernel)",
   "language": "python",
   "name": "python3"
  },
  "language_info": {
   "codemirror_mode": {
    "name": "ipython",
    "version": 3
   },
   "file_extension": ".py",
   "mimetype": "text/x-python",
   "name": "python",
   "nbconvert_exporter": "python",
   "pygments_lexer": "ipython3",
   "version": "3.12.3"
  }
 },
 "nbformat": 4,
 "nbformat_minor": 5
}
